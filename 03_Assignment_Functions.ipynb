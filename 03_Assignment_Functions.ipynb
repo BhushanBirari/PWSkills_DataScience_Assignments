{
  "nbformat": 4,
  "nbformat_minor": 0,
  "metadata": {
    "colab": {
      "provenance": [],
      "toc_visible": true
    },
    "kernelspec": {
      "name": "python3",
      "display_name": "Python 3"
    },
    "language_info": {
      "name": "python"
    }
  },
  "cells": [
    {
      "cell_type": "markdown",
      "source": [
        "# ***03_Assignment_Functions***"
      ],
      "metadata": {
        "id": "q25OPdKhlM9o"
      }
    },
    {
      "cell_type": "markdown",
      "source": [
        "# ***Practical Questions:***"
      ],
      "metadata": {
        "id": "5gbWBw2rldcR"
      }
    },
    {
      "cell_type": "markdown",
      "source": [
        "**1. Write a Python function that takes a list of numbers as input and returns the sum of all even numbers in\n",
        "the list.**"
      ],
      "metadata": {
        "id": "6xaZgj8gljIm"
      }
    },
    {
      "cell_type": "code",
      "execution_count": null,
      "metadata": {
        "colab": {
          "base_uri": "https://localhost:8080/"
        },
        "id": "1DuMkkAarll-",
        "outputId": "6d7ed828-089a-4c60-894a-1b21e415261f"
      },
      "outputs": [
        {
          "output_type": "stream",
          "name": "stdout",
          "text": [
            "The sum of even numbers in the list is: 12\n"
          ]
        }
      ],
      "source": [
        "def sum_of_even_numbers(numbers):\n",
        "  sum = 0\n",
        "  for number in numbers:\n",
        "    if number % 2 == 0:\n",
        "      sum += number\n",
        "  return sum\n",
        "\n",
        "numbers = [1, 2, 3, 4, 5, 6]\n",
        "even_sum = sum_of_even_numbers(numbers)\n",
        "print(f\"The sum of even numbers in the list is: {even_sum}\")"
      ]
    },
    {
      "cell_type": "markdown",
      "source": [
        "**2.Create a Python function that accepts a string and returns the reverse of that string.**"
      ],
      "metadata": {
        "id": "Li8see_Tr_St"
      }
    },
    {
      "cell_type": "code",
      "source": [
        "def reverse_string(s):\n",
        "    return s[::-1]\n",
        "input_string = \"Hello, world!\"\n",
        "reversed_string = reverse_string(input_string)\n",
        "print(f\"The reversed string is: {reversed_string}\")\n"
      ],
      "metadata": {
        "colab": {
          "base_uri": "https://localhost:8080/"
        },
        "id": "vvdCi_FfsEc2",
        "outputId": "383601e3-9d03-4dcc-ab78-88e435006167"
      },
      "execution_count": null,
      "outputs": [
        {
          "output_type": "stream",
          "name": "stdout",
          "text": [
            "The reversed string is: !dlrow ,olleH\n"
          ]
        }
      ]
    },
    {
      "cell_type": "markdown",
      "source": [
        "**3.Implement a Python function that takes a list of integers and returns a new list containing the squares of each number.**"
      ],
      "metadata": {
        "id": "mxhKc9KCsqfK"
      }
    },
    {
      "cell_type": "code",
      "source": [
        "def square_numbers(numbers):\n",
        "    squares = []\n",
        "    for number in numbers:\n",
        "        squares.append(number ** 2)\n",
        "    return squares\n",
        "\n",
        "numbers = [1, 2, 3, 4, 5]\n",
        "squared_numbers = square_numbers(numbers)\n",
        "print(squared_numbers)"
      ],
      "metadata": {
        "colab": {
          "base_uri": "https://localhost:8080/"
        },
        "id": "rFPmcNmcszKp",
        "outputId": "dd3d871d-fba0-40fd-e96e-272f8cba4874"
      },
      "execution_count": null,
      "outputs": [
        {
          "output_type": "stream",
          "name": "stdout",
          "text": [
            "[1, 4, 9, 16, 25]\n"
          ]
        }
      ]
    },
    {
      "cell_type": "markdown",
      "source": [
        "**4.Write a Python function that checks if a given number is prime or not from 1 to 200.**"
      ],
      "metadata": {
        "id": "w70rwfNauj7G"
      }
    },
    {
      "cell_type": "code",
      "source": [
        "def is_prime(n):\n",
        "    if n <= 1:\n",
        "        return False\n",
        "    for i in range(2, int(n**0.5) + 1):\n",
        "        if n % i == 0:\n",
        "            return False\n",
        "    return True\n",
        "\n",
        "# Check prime numbers from 1 to 200\n",
        "for number in range(1, 201):\n",
        "    if is_prime(number):\n",
        "        print(f\"{number} is a prime number.\")\n",
        "    else:\n",
        "        print(f\"{number} is not a prime number.\")"
      ],
      "metadata": {
        "colab": {
          "base_uri": "https://localhost:8080/"
        },
        "id": "tQTM4yYruqA5",
        "outputId": "acd31296-4bea-4fcf-e793-0ba50525bb63"
      },
      "execution_count": null,
      "outputs": [
        {
          "output_type": "stream",
          "name": "stdout",
          "text": [
            "1 is not a prime number.\n",
            "2 is a prime number.\n",
            "3 is a prime number.\n",
            "4 is not a prime number.\n",
            "5 is a prime number.\n",
            "6 is not a prime number.\n",
            "7 is a prime number.\n",
            "8 is not a prime number.\n",
            "9 is not a prime number.\n",
            "10 is not a prime number.\n",
            "11 is a prime number.\n",
            "12 is not a prime number.\n",
            "13 is a prime number.\n",
            "14 is not a prime number.\n",
            "15 is not a prime number.\n",
            "16 is not a prime number.\n",
            "17 is a prime number.\n",
            "18 is not a prime number.\n",
            "19 is a prime number.\n",
            "20 is not a prime number.\n",
            "21 is not a prime number.\n",
            "22 is not a prime number.\n",
            "23 is a prime number.\n",
            "24 is not a prime number.\n",
            "25 is not a prime number.\n",
            "26 is not a prime number.\n",
            "27 is not a prime number.\n",
            "28 is not a prime number.\n",
            "29 is a prime number.\n",
            "30 is not a prime number.\n",
            "31 is a prime number.\n",
            "32 is not a prime number.\n",
            "33 is not a prime number.\n",
            "34 is not a prime number.\n",
            "35 is not a prime number.\n",
            "36 is not a prime number.\n",
            "37 is a prime number.\n",
            "38 is not a prime number.\n",
            "39 is not a prime number.\n",
            "40 is not a prime number.\n",
            "41 is a prime number.\n",
            "42 is not a prime number.\n",
            "43 is a prime number.\n",
            "44 is not a prime number.\n",
            "45 is not a prime number.\n",
            "46 is not a prime number.\n",
            "47 is a prime number.\n",
            "48 is not a prime number.\n",
            "49 is not a prime number.\n",
            "50 is not a prime number.\n",
            "51 is not a prime number.\n",
            "52 is not a prime number.\n",
            "53 is a prime number.\n",
            "54 is not a prime number.\n",
            "55 is not a prime number.\n",
            "56 is not a prime number.\n",
            "57 is not a prime number.\n",
            "58 is not a prime number.\n",
            "59 is a prime number.\n",
            "60 is not a prime number.\n",
            "61 is a prime number.\n",
            "62 is not a prime number.\n",
            "63 is not a prime number.\n",
            "64 is not a prime number.\n",
            "65 is not a prime number.\n",
            "66 is not a prime number.\n",
            "67 is a prime number.\n",
            "68 is not a prime number.\n",
            "69 is not a prime number.\n",
            "70 is not a prime number.\n",
            "71 is a prime number.\n",
            "72 is not a prime number.\n",
            "73 is a prime number.\n",
            "74 is not a prime number.\n",
            "75 is not a prime number.\n",
            "76 is not a prime number.\n",
            "77 is not a prime number.\n",
            "78 is not a prime number.\n",
            "79 is a prime number.\n",
            "80 is not a prime number.\n",
            "81 is not a prime number.\n",
            "82 is not a prime number.\n",
            "83 is a prime number.\n",
            "84 is not a prime number.\n",
            "85 is not a prime number.\n",
            "86 is not a prime number.\n",
            "87 is not a prime number.\n",
            "88 is not a prime number.\n",
            "89 is a prime number.\n",
            "90 is not a prime number.\n",
            "91 is not a prime number.\n",
            "92 is not a prime number.\n",
            "93 is not a prime number.\n",
            "94 is not a prime number.\n",
            "95 is not a prime number.\n",
            "96 is not a prime number.\n",
            "97 is a prime number.\n",
            "98 is not a prime number.\n",
            "99 is not a prime number.\n",
            "100 is not a prime number.\n",
            "101 is a prime number.\n",
            "102 is not a prime number.\n",
            "103 is a prime number.\n",
            "104 is not a prime number.\n",
            "105 is not a prime number.\n",
            "106 is not a prime number.\n",
            "107 is a prime number.\n",
            "108 is not a prime number.\n",
            "109 is a prime number.\n",
            "110 is not a prime number.\n",
            "111 is not a prime number.\n",
            "112 is not a prime number.\n",
            "113 is a prime number.\n",
            "114 is not a prime number.\n",
            "115 is not a prime number.\n",
            "116 is not a prime number.\n",
            "117 is not a prime number.\n",
            "118 is not a prime number.\n",
            "119 is not a prime number.\n",
            "120 is not a prime number.\n",
            "121 is not a prime number.\n",
            "122 is not a prime number.\n",
            "123 is not a prime number.\n",
            "124 is not a prime number.\n",
            "125 is not a prime number.\n",
            "126 is not a prime number.\n",
            "127 is a prime number.\n",
            "128 is not a prime number.\n",
            "129 is not a prime number.\n",
            "130 is not a prime number.\n",
            "131 is a prime number.\n",
            "132 is not a prime number.\n",
            "133 is not a prime number.\n",
            "134 is not a prime number.\n",
            "135 is not a prime number.\n",
            "136 is not a prime number.\n",
            "137 is a prime number.\n",
            "138 is not a prime number.\n",
            "139 is a prime number.\n",
            "140 is not a prime number.\n",
            "141 is not a prime number.\n",
            "142 is not a prime number.\n",
            "143 is not a prime number.\n",
            "144 is not a prime number.\n",
            "145 is not a prime number.\n",
            "146 is not a prime number.\n",
            "147 is not a prime number.\n",
            "148 is not a prime number.\n",
            "149 is a prime number.\n",
            "150 is not a prime number.\n",
            "151 is a prime number.\n",
            "152 is not a prime number.\n",
            "153 is not a prime number.\n",
            "154 is not a prime number.\n",
            "155 is not a prime number.\n",
            "156 is not a prime number.\n",
            "157 is a prime number.\n",
            "158 is not a prime number.\n",
            "159 is not a prime number.\n",
            "160 is not a prime number.\n",
            "161 is not a prime number.\n",
            "162 is not a prime number.\n",
            "163 is a prime number.\n",
            "164 is not a prime number.\n",
            "165 is not a prime number.\n",
            "166 is not a prime number.\n",
            "167 is a prime number.\n",
            "168 is not a prime number.\n",
            "169 is not a prime number.\n",
            "170 is not a prime number.\n",
            "171 is not a prime number.\n",
            "172 is not a prime number.\n",
            "173 is a prime number.\n",
            "174 is not a prime number.\n",
            "175 is not a prime number.\n",
            "176 is not a prime number.\n",
            "177 is not a prime number.\n",
            "178 is not a prime number.\n",
            "179 is a prime number.\n",
            "180 is not a prime number.\n",
            "181 is a prime number.\n",
            "182 is not a prime number.\n",
            "183 is not a prime number.\n",
            "184 is not a prime number.\n",
            "185 is not a prime number.\n",
            "186 is not a prime number.\n",
            "187 is not a prime number.\n",
            "188 is not a prime number.\n",
            "189 is not a prime number.\n",
            "190 is not a prime number.\n",
            "191 is a prime number.\n",
            "192 is not a prime number.\n",
            "193 is a prime number.\n",
            "194 is not a prime number.\n",
            "195 is not a prime number.\n",
            "196 is not a prime number.\n",
            "197 is a prime number.\n",
            "198 is not a prime number.\n",
            "199 is a prime number.\n",
            "200 is not a prime number.\n"
          ]
        }
      ]
    },
    {
      "cell_type": "markdown",
      "source": [
        "**5.Create an iterator class in Python that generates the Fibonacci sequence up to a specified number of terms.**"
      ],
      "metadata": {
        "id": "EPfmby-Pw40B"
      }
    },
    {
      "cell_type": "code",
      "source": [
        "class FibonacciIterator:\n",
        "    def __init__(self, num_terms):\n",
        "        self.num_terms = num_terms\n",
        "        self.index = 0\n",
        "        self.current = 0\n",
        "        self.next = 1\n",
        "\n",
        "    def __iter__(self):\n",
        "        return self\n",
        "\n",
        "    def __next__(self):\n",
        "        if self.index >= self.num_terms:\n",
        "            raise StopIteration\n",
        "\n",
        "        value = self.current\n",
        "        self.current, self.next = self.next, self.current + self.next\n",
        "        self.index += 1\n",
        "        return value\n",
        "\n",
        "# Example usage:\n",
        "num_terms = 10\n",
        "fibonacci_iterator = FibonacciIterator(num_terms)\n",
        "for number in fibonacci_iterator:\n",
        "    print(number)\n"
      ],
      "metadata": {
        "colab": {
          "base_uri": "https://localhost:8080/"
        },
        "id": "juHLeFMhxBeT",
        "outputId": "c3f54a26-6fa2-4b52-f796-7bab40eac8f6"
      },
      "execution_count": null,
      "outputs": [
        {
          "output_type": "stream",
          "name": "stdout",
          "text": [
            "0\n",
            "1\n",
            "1\n",
            "2\n",
            "3\n",
            "5\n",
            "8\n",
            "13\n",
            "21\n",
            "34\n"
          ]
        }
      ]
    },
    {
      "cell_type": "markdown",
      "source": [
        "**6.Write a generator function in Python that yields the powers of 2 up to a given exponent.**"
      ],
      "metadata": {
        "id": "kWB3gzdHy4nM"
      }
    },
    {
      "cell_type": "code",
      "source": [
        "def powers_of_two(max_exponent):\n",
        "    exponent = 0\n",
        "    while exponent <= max_exponent:\n",
        "        yield 2 ** exponent\n",
        "        exponent += 1\n",
        "\n",
        "# Example usage:\n",
        "for value in powers_of_two(5):\n",
        "    print(value)"
      ],
      "metadata": {
        "colab": {
          "base_uri": "https://localhost:8080/"
        },
        "id": "uWnm2R-TzBQV",
        "outputId": "f900c636-ae2a-4e19-cde7-9c3827a98e7a"
      },
      "execution_count": null,
      "outputs": [
        {
          "output_type": "stream",
          "name": "stdout",
          "text": [
            "1\n",
            "2\n",
            "4\n",
            "8\n",
            "16\n",
            "32\n"
          ]
        }
      ]
    },
    {
      "cell_type": "markdown",
      "source": [
        "**7.Implement a generator function that reads a file line by line and yields each line as a string**"
      ],
      "metadata": {
        "id": "GuPhM1_2zBhs"
      }
    },
    {
      "cell_type": "code",
      "source": [
        "# I dont know the answer"
      ],
      "metadata": {
        "id": "4VeX4iNzBzNf"
      },
      "execution_count": null,
      "outputs": []
    },
    {
      "cell_type": "markdown",
      "source": [
        "**8.Use a lambda function in Python to sort a list of tuples based on the second element of each tuple.**"
      ],
      "metadata": {
        "id": "fbW0l9JPDYKa"
      }
    },
    {
      "cell_type": "code",
      "source": [
        "my_list = [('apple', 2), ('banana', 1), ('orange', 3)]\n",
        "\n",
        "sorted_list = sorted(my_list, key=lambda item: item[1])\n",
        "\n",
        "print(sorted_list)  # Output: [('banana', 1), ('apple', 2), ('orange', 3)]"
      ],
      "metadata": {
        "colab": {
          "base_uri": "https://localhost:8080/"
        },
        "id": "3ZNEBmkZDjK-",
        "outputId": "9a8a367b-e874-4ce6-a56f-754aa4ac59eb"
      },
      "execution_count": null,
      "outputs": [
        {
          "output_type": "stream",
          "name": "stdout",
          "text": [
            "[('banana', 1), ('apple', 2), ('orange', 3)]\n"
          ]
        }
      ]
    },
    {
      "cell_type": "markdown",
      "source": [
        "**9.Write a Python program that uses `map()` to convert a list of temperatures from Celsius to Fahrenheit.**"
      ],
      "metadata": {
        "id": "astU1NECEHcA"
      }
    },
    {
      "cell_type": "code",
      "source": [
        "def celsius_to_fahrenheit(celsius):\n",
        "    return (celsius * 9/5) + 32\n",
        "\n",
        "celsius_temperatures = [0, 20, 37, 100]\n",
        "\n",
        "fahrenheit_temperatures = list(map(celsius_to_fahrenheit, celsius_temperatures))\n",
        "\n",
        "print(f\"Temperatures in Celsius: {celsius_temperatures}\")\n",
        "print(f\"Temperatures in Fahrenheit: {fahrenheit_temperatures}\")\n"
      ],
      "metadata": {
        "colab": {
          "base_uri": "https://localhost:8080/"
        },
        "id": "OFB1txzhEyef",
        "outputId": "7535e667-83f8-4574-959c-18b955c7b229"
      },
      "execution_count": null,
      "outputs": [
        {
          "output_type": "stream",
          "name": "stdout",
          "text": [
            "Temperatures in Celsius: [0, 20, 37, 100]\n",
            "Temperatures in Fahrenheit: [32.0, 68.0, 98.6, 212.0]\n"
          ]
        }
      ]
    },
    {
      "cell_type": "markdown",
      "source": [
        "**10.Create a Python program that uses `filter()` to remove all the vowels from a given string.**"
      ],
      "metadata": {
        "id": "IgdZ2rFUFGrR"
      }
    },
    {
      "cell_type": "code",
      "source": [
        "def remove_vowels(s):\n",
        "    vowels = \"aeiouAEIOU\"\n",
        "    return \"\".join(filter(lambda char: char not in vowels, s))\n",
        "\n",
        "input_string = \"Hello, world!\"\n",
        "result = remove_vowels(input_string)\n",
        "print(f\"The string without vowels is: {result}\")\n"
      ],
      "metadata": {
        "colab": {
          "base_uri": "https://localhost:8080/"
        },
        "id": "_rtrrD8KFP_k",
        "outputId": "9121ffce-0d44-432c-eb59-ccbe7edbb35b"
      },
      "execution_count": null,
      "outputs": [
        {
          "output_type": "stream",
          "name": "stdout",
          "text": [
            "The string without vowels is: Hll, wrld!\n"
          ]
        }
      ]
    },
    {
      "cell_type": "markdown",
      "source": [
        "**11.**"
      ],
      "metadata": {
        "id": "w6X8iIQVITfh"
      }
    },
    {
      "cell_type": "code",
      "source": [
        "\n",
        "orders = [\n",
        "    [34587, 'Learning Python', 4, 40.95],\n",
        "    [98762, 'Programming Python', 5, 56.80],\n",
        "    [77226, 'Head First Python', 3, 32.95],\n",
        "    [88112, 'Einführung in Python3', 3, 24.99]\n",
        "]\n",
        "\n",
        "calculate_total_price = lambda order: (order[0], order[2] * order[3] if order[2] * order[3] >= 100 else order[2] * order[3] + 10)\n",
        "\n",
        "result = list(map(calculate_total_price, orders))\n",
        "\n",
        "print(result)\n"
      ],
      "metadata": {
        "colab": {
          "base_uri": "https://localhost:8080/"
        },
        "id": "QTBpP8lmIU6J",
        "outputId": "83d6730e-8033-4a2e-81e5-8c7021e4f1ab"
      },
      "execution_count": null,
      "outputs": [
        {
          "output_type": "stream",
          "name": "stdout",
          "text": [
            "[(34587, 163.8), (98762, 284.0), (77226, 108.85000000000001), (88112, 84.97)]\n"
          ]
        }
      ]
    },
    {
      "cell_type": "markdown",
      "source": [
        "# **Theory Questions:**"
      ],
      "metadata": {
        "id": "yVw8GYDnI7z5"
      }
    },
    {
      "cell_type": "markdown",
      "source": [
        "**01.What is the difference between a function and a method in Python?**"
      ],
      "metadata": {
        "id": "HyA6q-WMJCJI"
      }
    },
    {
      "cell_type": "markdown",
      "source": [
        "Functions -\n",
        "1.   A function is a block of code that perform specific task , define using def keyword\n",
        "2.   function can be called from anywhere in the code"
      ],
      "metadata": {
        "id": "TFIYxeBLKKyw"
      }
    },
    {
      "cell_type": "code",
      "source": [
        "def Greetings(name):\n",
        "    return (f\"Hello, {name}!\")\n",
        "print (Greetings(\"Bhushan\"))"
      ],
      "metadata": {
        "colab": {
          "base_uri": "https://localhost:8080/"
        },
        "id": "lcOQqsDfKnPY",
        "outputId": "82eb82e0-ac1e-4cd6-9071-28d23c8aaa15"
      },
      "execution_count": null,
      "outputs": [
        {
          "output_type": "stream",
          "name": "stdout",
          "text": [
            "Hello, Bhushan!\n"
          ]
        }
      ]
    },
    {
      "cell_type": "markdown",
      "source": [
        "Methods -\n",
        "\n",
        "1.   A method is similar to a function but is associated with an object (an instance of a class).\n",
        "2.   Methods are defined inside a class and are called on instances of that class.\n",
        "3.   Methods can access and modify the attributes of the instance they belong to.\n",
        "\n",
        "\n",
        "\n"
      ],
      "metadata": {
        "id": "3Rr9wvLnLUA6"
      }
    },
    {
      "cell_type": "code",
      "source": [
        "class Greeter:\n",
        "    def hello(self):\n",
        "        return (\"Hello, Bhushan!\")\n",
        "\n",
        "greeter = Greeter()\n",
        "\n",
        "print(greeter.hello())"
      ],
      "metadata": {
        "colab": {
          "base_uri": "https://localhost:8080/"
        },
        "id": "JpCnWGKkK_wk",
        "outputId": "3152c2cb-aa62-4cac-cd15-f2dae643e978"
      },
      "execution_count": null,
      "outputs": [
        {
          "output_type": "stream",
          "name": "stdout",
          "text": [
            "Hello, Bhushan!\n"
          ]
        }
      ]
    },
    {
      "cell_type": "markdown",
      "source": [
        "**2. Explain the concept of function arguments and parameters in Python.**"
      ],
      "metadata": {
        "id": "zUekQ7tEPTGR"
      }
    },
    {
      "cell_type": "markdown",
      "source": [
        "Parameters -\n",
        "1.   Parameters are variables listed inside the parentheses in the function definition.\n",
        "2.   They act as placeholders for the values that will be passed to the function.\n",
        "\n",
        "Arguments -\n",
        "1.  Arguments are the actual values passed to the function when it is called.\n",
        "2.  They replace the parameters in the function definition."
      ],
      "metadata": {
        "id": "Ote38JrxP1dR"
      }
    },
    {
      "cell_type": "code",
      "source": [
        "def Greetings(name):  #(name) = is the parameter\n",
        "    return (f\"Hello, {name}!\")\n",
        "print (Greetings(\"Bhushan\")) #(\"Bhushan\") = is the argument"
      ],
      "metadata": {
        "colab": {
          "base_uri": "https://localhost:8080/"
        },
        "id": "Kg-NnuynPH73",
        "outputId": "f71db302-3d64-411b-f41d-445c62b866a4"
      },
      "execution_count": null,
      "outputs": [
        {
          "output_type": "stream",
          "name": "stdout",
          "text": [
            "Hello, Bhushan!\n"
          ]
        }
      ]
    },
    {
      "cell_type": "markdown",
      "source": [
        "**3. What are the different ways to define and call a function in Python?**"
      ],
      "metadata": {
        "id": "ui41U4ddQ2bI"
      }
    },
    {
      "cell_type": "code",
      "source": [
        "# 1.Stanadard Function defination\n",
        "def greet(name):\n",
        "    return (f\"Hello {name}!\")\n",
        "\n",
        "print(greet(\"Bhushan\"))"
      ],
      "metadata": {
        "colab": {
          "base_uri": "https://localhost:8080/"
        },
        "id": "um4mzhbrQ7tk",
        "outputId": "bfd778a0-7543-49f2-bbe5-5781a1a2039c"
      },
      "execution_count": null,
      "outputs": [
        {
          "output_type": "stream",
          "name": "stdout",
          "text": [
            "Hello Bhushan!\n"
          ]
        }
      ]
    },
    {
      "cell_type": "code",
      "source": [
        "# 2.Default Argument\n",
        "def greet(name=\"World\"):\n",
        "    return (f\"Hello {name}!\")\n",
        "\n",
        "print(greet())\n",
        "print(greet(\"Bhushan\"))"
      ],
      "metadata": {
        "colab": {
          "base_uri": "https://localhost:8080/"
        },
        "id": "bn6FQvHF9_B1",
        "outputId": "e015eff6-dc9e-4f1c-e285-6312090c1f30"
      },
      "execution_count": null,
      "outputs": [
        {
          "output_type": "stream",
          "name": "stdout",
          "text": [
            "Hello World!\n",
            "Hello Bhushan!\n"
          ]
        }
      ]
    },
    {
      "cell_type": "code",
      "source": [
        "# 3.Keyword Arguments\n",
        "def greet(name, greeting):\n",
        "    return (f\"{greeting}, {name}!\")\n",
        "\n",
        "print(greet(name=\"Bhushan\", greeting=\"Hello\"))"
      ],
      "metadata": {
        "colab": {
          "base_uri": "https://localhost:8080/"
        },
        "id": "mBiY0_z2-z92",
        "outputId": "2e634dd2-3194-4855-a023-6c93bcb80981"
      },
      "execution_count": null,
      "outputs": [
        {
          "output_type": "stream",
          "name": "stdout",
          "text": [
            "Hello, Bhushan!\n"
          ]
        }
      ]
    },
    {
      "cell_type": "code",
      "source": [
        "# 4. Variable length arguments - Functions can accept a variable number of arguments using *args (for tuples) and **kwargs (for dictionaries).\n",
        "\n",
        "def display_info(*args, **kwargs):\n",
        "    print(\"Positional arguments:\", args)\n",
        "    print(\"Keyword arguments:\", kwargs)\n",
        "\n",
        "display_info(1, 2, 3,4, sex=\"male\", name=\"Bhushan\", age=20)"
      ],
      "metadata": {
        "colab": {
          "base_uri": "https://localhost:8080/"
        },
        "id": "PqsuBQnB_--3",
        "outputId": "11214c82-9e63-4d30-f484-1e7ce0815775"
      },
      "execution_count": null,
      "outputs": [
        {
          "output_type": "stream",
          "name": "stdout",
          "text": [
            "Positional arguments: (1, 2, 3, 4)\n",
            "Keyword arguments: {'sex': 'male', 'name': 'Bhushan', 'age': 20}\n"
          ]
        }
      ]
    },
    {
      "cell_type": "code",
      "source": [
        "# 5. Lambda Function\n",
        "add = lambda a, b: a - b\n",
        "print(add(5, 3))"
      ],
      "metadata": {
        "colab": {
          "base_uri": "https://localhost:8080/"
        },
        "id": "OgYPCX-YAy1u",
        "outputId": "fdd53bbe-d5ae-4497-f9e5-b3ed7b5428d0"
      },
      "execution_count": null,
      "outputs": [
        {
          "output_type": "stream",
          "name": "stdout",
          "text": [
            "2\n"
          ]
        }
      ]
    },
    {
      "cell_type": "code",
      "source": [
        "# 6. Nested Functions"
      ],
      "metadata": {
        "id": "sib8q6w7C2Gi"
      },
      "execution_count": null,
      "outputs": []
    },
    {
      "cell_type": "code",
      "source": [
        "def make_cake():\n",
        "    def make_batter():\n",
        "        return \"Batter is ready!\"\n",
        "\n",
        "    def make_frosting():\n",
        "        return \"Frosting is ready!\"\n",
        "\n",
        "    batter = make_batter()\n",
        "    frosting = make_frosting()\n",
        "\n",
        "    return (f\"{batter} {frosting} Cake is ready!\")\n",
        "\n",
        "# Call the main function\n",
        "print(make_cake())"
      ],
      "metadata": {
        "colab": {
          "base_uri": "https://localhost:8080/"
        },
        "id": "_7Z5NMJWC2DO",
        "outputId": "699d30c9-6516-4f18-e8e9-887b1a6fdea4"
      },
      "execution_count": null,
      "outputs": [
        {
          "output_type": "stream",
          "name": "stdout",
          "text": [
            "Batter is ready! Frosting is ready! Cake is ready!\n"
          ]
        }
      ]
    },
    {
      "cell_type": "code",
      "source": [
        "# 7.Higher-Order Functions\n",
        "# Define the higher-order function\n",
        "def task_manager(operation, num_list):\n",
        "    return [operation(num) for num in num_list]\n",
        "\n",
        "# Define some operations (functions) to be used\n",
        "def double(num):\n",
        "    return num * 2\n",
        "\n",
        "def square(num):\n",
        "    return num * num\n",
        "\n",
        "# List of numbers\n",
        "numbers = [1, 2, 3, 4, 5]\n",
        "\n",
        "# Use the higher-order function with the 'double' operation\n",
        "doubled_numbers = task_manager(double, numbers)\n",
        "print(f\"Doubled numbers: {doubled_numbers}\")\n",
        "\n",
        "# Use the higher-order function with the 'square' operation\n",
        "squared_numbers = task_manager(square, numbers)\n",
        "print(f\"Squared numbers: {squared_numbers}\")"
      ],
      "metadata": {
        "colab": {
          "base_uri": "https://localhost:8080/"
        },
        "id": "jn6_d2MnELqV",
        "outputId": "fbf5ea74-95a8-47e4-8859-584f7fc4e644"
      },
      "execution_count": null,
      "outputs": [
        {
          "output_type": "stream",
          "name": "stdout",
          "text": [
            "Doubled numbers: [2, 4, 6, 8, 10]\n",
            "Squared numbers: [1, 4, 9, 16, 25]\n"
          ]
        }
      ]
    },
    {
      "cell_type": "markdown",
      "source": [
        "**4. What is the purpose of the `return` statement in a Python function?**"
      ],
      "metadata": {
        "id": "s_7ben5NE9Q3"
      }
    },
    {
      "cell_type": "markdown",
      "source": [
        "The primary purpose of the return statement is to send a value back to the caller of the function.\n",
        "\n",
        "This allows the function to produce a result that can be used in other parts of the program.\n",
        "\n",
        "Python allows a function to return multiple values as a tuple.\n",
        "\n",
        "This can be useful for returning related pieces of information."
      ],
      "metadata": {
        "id": "kCMHo5pWFCo_"
      }
    },
    {
      "cell_type": "code",
      "source": [
        "def add(a, b):\n",
        "    return a + b\n",
        "\n",
        "result = add(3, 4)\n",
        "print(result)"
      ],
      "metadata": {
        "colab": {
          "base_uri": "https://localhost:8080/"
        },
        "id": "JgUvAC0LGLyn",
        "outputId": "92544cd6-9daa-40cb-c64c-fc9fbc89c667"
      },
      "execution_count": null,
      "outputs": [
        {
          "output_type": "stream",
          "name": "stdout",
          "text": [
            "7\n"
          ]
        }
      ]
    },
    {
      "cell_type": "code",
      "source": [
        "def get_name_and_age():\n",
        "    name = \"Alice\"\n",
        "    age = 30\n",
        "    return name, age\n",
        "\n",
        "name, age = get_name_and_age()\n",
        "print(f\"Name: {name}, Age: {age}\")"
      ],
      "metadata": {
        "colab": {
          "base_uri": "https://localhost:8080/"
        },
        "id": "KPoJJgLsGQLf",
        "outputId": "0d4e6a94-e48b-4820-a431-c6f0f48b6752"
      },
      "execution_count": null,
      "outputs": [
        {
          "output_type": "stream",
          "name": "stdout",
          "text": [
            "Name: Alice, Age: 30\n"
          ]
        }
      ]
    },
    {
      "cell_type": "markdown",
      "source": [
        "**5. What are iterators in Python and how do they differ from iterables?**"
      ],
      "metadata": {
        "id": "3wP0Fz-nGbYZ"
      }
    },
    {
      "cell_type": "markdown",
      "source": [
        "Iterable: An object that can return an iterator.\n",
        "          Can be used in a for loop directly.\n",
        "          \n",
        "Iterator: An object used to iterate over an iterable, returning one element at a time.\n",
        "Can be used with the next() function to get elements one by one."
      ],
      "metadata": {
        "id": "y4xBjQX1IjlQ"
      }
    },
    {
      "cell_type": "code",
      "source": [
        "#Iterable\n",
        "my_list = [1, 2, 3, 4]\n",
        "for item in my_list:\n",
        "    print(item)"
      ],
      "metadata": {
        "colab": {
          "base_uri": "https://localhost:8080/"
        },
        "id": "mBeJmQVeItqX",
        "outputId": "32e67387-f1ce-410e-9fe0-c3230cb87649"
      },
      "execution_count": null,
      "outputs": [
        {
          "output_type": "stream",
          "name": "stdout",
          "text": [
            "1\n",
            "2\n",
            "3\n",
            "4\n"
          ]
        }
      ]
    },
    {
      "cell_type": "code",
      "source": [
        "my_list = [1, 2, 3, 4]\n",
        "my_iterator = iter(my_list)\n",
        "\n",
        "print(next(my_iterator))\n",
        "print(next(my_iterator))\n",
        "print(next(my_iterator))\n",
        "print(next(my_iterator))"
      ],
      "metadata": {
        "colab": {
          "base_uri": "https://localhost:8080/"
        },
        "id": "e7KjXlKRI5Do",
        "outputId": "8b533d76-084c-4beb-c60a-288b6e1a33dc"
      },
      "execution_count": null,
      "outputs": [
        {
          "output_type": "stream",
          "name": "stdout",
          "text": [
            "1\n",
            "2\n",
            "3\n",
            "4\n"
          ]
        }
      ]
    },
    {
      "cell_type": "markdown",
      "source": [
        "**6. Explain the concept of generators in Python and how they are defined.**"
      ],
      "metadata": {
        "id": "hCyXsdCtJ4qC"
      }
    },
    {
      "cell_type": "markdown",
      "source": [
        "Generators are a special type of iterable that allow you to iterate over a sequence of values, but they generate the values one at a time as needed, rather than all at once. This makes them memory-efficient, especially when dealing with large datasets."
      ],
      "metadata": {
        "id": "tReHk8fPMatk"
      }
    },
    {
      "cell_type": "code",
      "source": [
        "#1. Generator Function = These are defined using the def keyword, like regular functions, but they use the yield keyword to return values one at a time.\n",
        "def simple_generator():\n",
        "    yield 1\n",
        "    yield 2\n",
        "    yield 3\n",
        "\n",
        "gen = simple_generator()\n",
        "\n",
        "for value in gen:\n",
        "    print(value)"
      ],
      "metadata": {
        "colab": {
          "base_uri": "https://localhost:8080/"
        },
        "id": "K0rj4WIxJIAe",
        "outputId": "9bca9bc8-5e84-46fb-ab1b-7ed2e8bf6a2a"
      },
      "execution_count": null,
      "outputs": [
        {
          "output_type": "stream",
          "name": "stdout",
          "text": [
            "1\n",
            "2\n",
            "3\n"
          ]
        }
      ]
    },
    {
      "cell_type": "code",
      "source": [
        "# 2. Genetrator expressions = These are similar to list comprehensions but use parentheses instead of square brackets.\n",
        "gen_exp = (x * x for x in range(5))\n",
        "\n",
        "for value in gen_exp:\n",
        "    print(value)"
      ],
      "metadata": {
        "colab": {
          "base_uri": "https://localhost:8080/"
        },
        "id": "Je2Ow8-AMrDi",
        "outputId": "1b9133e4-a102-4bce-8664-c74c3a996e49"
      },
      "execution_count": null,
      "outputs": [
        {
          "output_type": "stream",
          "name": "stdout",
          "text": [
            "0\n",
            "1\n",
            "4\n",
            "9\n",
            "16\n"
          ]
        }
      ]
    },
    {
      "cell_type": "markdown",
      "source": [
        "**7. What are the advantages of using generators over regular functions?**"
      ],
      "metadata": {
        "id": "Fn4Lk5yCbFEL"
      }
    },
    {
      "cell_type": "markdown",
      "source": [
        "dvantages =\n",
        "1.    Memory Efficiency\n",
        "2.    Improved Performance\n",
        "3.    Simplified Code\n",
        "4.    Scalability\n",
        "5.    handling large data\n",
        "6.    Easier State Management"
      ],
      "metadata": {
        "id": "nfrYln7AbLp8"
      }
    },
    {
      "cell_type": "code",
      "source": [
        "# Rgular Function\n",
        "def bake_all_cookies():\n",
        "    cookies = [\"cookie\" for _ in range(10)]\n",
        "    return cookies\n",
        "\n",
        "all_cookies = bake_all_cookies()\n",
        "for cookie in all_cookies:\n",
        "    print(cookie)"
      ],
      "metadata": {
        "colab": {
          "base_uri": "https://localhost:8080/"
        },
        "id": "DjOLeDarb5N9",
        "outputId": "95b1547b-48ae-431e-ea29-5257eaee51f0"
      },
      "execution_count": null,
      "outputs": [
        {
          "output_type": "stream",
          "name": "stdout",
          "text": [
            "cookie\n",
            "cookie\n",
            "cookie\n",
            "cookie\n",
            "cookie\n",
            "cookie\n",
            "cookie\n",
            "cookie\n",
            "cookie\n",
            "cookie\n"
          ]
        }
      ]
    },
    {
      "cell_type": "code",
      "source": [
        "# Generator Function\n",
        "def bake_cookies():\n",
        "    for _ in range(10):\n",
        "        yield \"cookie\"\n",
        "\n",
        "for cookie in bake_cookies():\n",
        "    print(cookie)"
      ],
      "metadata": {
        "colab": {
          "base_uri": "https://localhost:8080/"
        },
        "id": "MRySUTyXcTHF",
        "outputId": "44883976-fc48-4360-8e87-4600d431eedb"
      },
      "execution_count": null,
      "outputs": [
        {
          "output_type": "stream",
          "name": "stdout",
          "text": [
            "cookie\n",
            "cookie\n",
            "cookie\n",
            "cookie\n",
            "cookie\n",
            "cookie\n",
            "cookie\n",
            "cookie\n",
            "cookie\n",
            "cookie\n"
          ]
        }
      ]
    },
    {
      "cell_type": "markdown",
      "source": [
        "**8. What is a lambda function in Python and when is it typically used?**"
      ],
      "metadata": {
        "id": "XaaUYk1viCyq"
      }
    },
    {
      "cell_type": "markdown",
      "source": [
        "A lambda function in Python is a small, anonymous function defined using the lambda keyword. It can have any number of arguments, but it can only have one expression. Lambda functions are often used for short, simple operations and are usually written in a single line of code.\n",
        "\n",
        "Lambda functions are typically used in situations where a small, simple function is needed for a short period, often as an argument to higher-order functions like map(), filter(), and sorted()."
      ],
      "metadata": {
        "id": "O37w2NImiRNS"
      }
    },
    {
      "cell_type": "code",
      "source": [
        "add = lambda x, y: x + y\n",
        "print(add(3, 5))"
      ],
      "metadata": {
        "colab": {
          "base_uri": "https://localhost:8080/"
        },
        "id": "5fNAv6J3inwq",
        "outputId": "809b4547-5de1-489b-d669-38bcceabc88f"
      },
      "execution_count": null,
      "outputs": [
        {
          "output_type": "stream",
          "name": "stdout",
          "text": [
            "8\n"
          ]
        }
      ]
    },
    {
      "cell_type": "markdown",
      "source": [
        "**9. Explain the purpose and usage of the `map()` function in Python.**"
      ],
      "metadata": {
        "id": "ChvvcERJj8Nm"
      }
    },
    {
      "cell_type": "markdown",
      "source": [
        "The primary purpose of the map() function is to transform data by applying a function to each item in an iterable. It's particularly useful for performing operations on lists, tuples, or other iterables in a concise and efficient manner."
      ],
      "metadata": {
        "id": "VcBtYSlFkAkT"
      }
    },
    {
      "cell_type": "code",
      "source": [
        "def word_length(word):\n",
        "    return len(word)\n",
        "words = [\"hello\", \"world\", \"Python\", \"is\", \"awesome\"]\n",
        "word_lengths = list(map(word_length, words))\n",
        "print(word_lengths)\n"
      ],
      "metadata": {
        "id": "lr2jNiFzkykm",
        "colab": {
          "base_uri": "https://localhost:8080/"
        },
        "outputId": "ffc3ee56-e69d-4537-8110-7662a4ed4c98"
      },
      "execution_count": 2,
      "outputs": [
        {
          "output_type": "stream",
          "name": "stdout",
          "text": [
            "[5, 5, 6, 2, 7]\n"
          ]
        }
      ]
    },
    {
      "cell_type": "markdown",
      "source": [
        "**10. What is the difference between `map()`, `reduce()`, and `filter()` functions in Python?**"
      ],
      "metadata": {
        "id": "qeh-Gu9gSIHT"
      }
    },
    {
      "cell_type": "markdown",
      "source": [
        "The map(), reduce(), and filter() functions in Python are all higher-order functions that operate on iterables (such as lists and tuples). They allow you to apply a function to the elements of an iterable in different ways."
      ],
      "metadata": {
        "id": "dSfw6DSDer4K"
      }
    },
    {
      "cell_type": "code",
      "source": [
        "#map()\n",
        "numbers = [1, 2, 3, 4, 5]\n",
        "doubled_numbers = map(lambda x: x * 2, numbers)\n",
        "print(list(doubled_numbers))"
      ],
      "metadata": {
        "colab": {
          "base_uri": "https://localhost:8080/"
        },
        "id": "lV9NDBOFSP6Z",
        "outputId": "f5816b3c-8eb9-48de-dfaf-f69918ca9222"
      },
      "execution_count": 4,
      "outputs": [
        {
          "output_type": "stream",
          "name": "stdout",
          "text": [
            "[2, 4, 6, 8, 10]\n"
          ]
        }
      ]
    },
    {
      "cell_type": "code",
      "source": [
        "#filter()\n",
        "numbers = [1, 2, 3, 4, 5]\n",
        "even_numbers = filter(lambda x: x % 2 == 0, numbers)\n",
        "print(list(even_numbers))"
      ],
      "metadata": {
        "colab": {
          "base_uri": "https://localhost:8080/"
        },
        "id": "W_sV6ioMfEl3",
        "outputId": "24e9a97b-d715-46f4-80b9-9bc2a2d2e19f"
      },
      "execution_count": 7,
      "outputs": [
        {
          "output_type": "stream",
          "name": "stdout",
          "text": [
            "[2, 4]\n"
          ]
        }
      ]
    },
    {
      "cell_type": "code",
      "source": [
        "#reduce()\n",
        "from functools import reduce\n",
        "\n",
        "numbers = [1, 2, 3, 4, 5]\n",
        "total_sum = reduce(lambda x, y: x + y, numbers)\n",
        "print(total_sum)"
      ],
      "metadata": {
        "colab": {
          "base_uri": "https://localhost:8080/"
        },
        "id": "W84jajc9fEbq",
        "outputId": "e2696c23-85e2-4b84-b548-854f9ebc5716"
      },
      "execution_count": 8,
      "outputs": [
        {
          "output_type": "stream",
          "name": "stdout",
          "text": [
            "15\n"
          ]
        }
      ]
    },
    {
      "cell_type": "markdown",
      "source": [
        "**11. Using pen & Paper write the internal mechanism for sum operation using reduce function on this given list:[47,11,42,13];**"
      ],
      "metadata": {
        "id": "XOUFnnDWa6IC"
      }
    },
    {
      "cell_type": "code",
      "source": [
        "from functools import reduce\n",
        "\n",
        "# Define the list\n",
        "numbers = [47, 11, 42, 13]\n",
        "\n",
        "# Use reduce to compute the sum\n",
        "result = reduce(lambda x, y: x + y, numbers)\n",
        "\n",
        "print(\"Sum of the list:\", result)\n",
        "\n",
        "\n",
        "\"\"\"\n",
        "The reduce function applies a rolling computation (in this case, addition) to sequential pairs of values in the list. Here's how it works for the list [47, 11, 42, 13]:\n",
        "\n",
        "Step 1: 47 + 11 = 58\n",
        "\n",
        "Step 2: 58 + 42 = 100\n",
        "\n",
        "Step 3: 100 + 13 = 113\n",
        "\"\"\""
      ],
      "metadata": {
        "colab": {
          "base_uri": "https://localhost:8080/"
        },
        "id": "75Pt87smjrYL",
        "outputId": "cd28dbe8-6596-4281-b81c-b61763650fcc"
      },
      "execution_count": 1,
      "outputs": [
        {
          "output_type": "stream",
          "name": "stdout",
          "text": [
            "Sum of the list: 113\n"
          ]
        }
      ]
    },
    {
      "cell_type": "markdown",
      "source": [
        "# ***END***"
      ],
      "metadata": {
        "id": "bGOFi36xBSmf"
      }
    }
  ]
}