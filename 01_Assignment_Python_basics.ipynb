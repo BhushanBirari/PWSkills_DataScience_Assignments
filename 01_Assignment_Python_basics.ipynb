{
  "nbformat": 4,
  "nbformat_minor": 0,
  "metadata": {
    "colab": {
      "provenance": []
    },
    "kernelspec": {
      "name": "python3",
      "display_name": "Python 3"
    },
    "language_info": {
      "name": "python"
    }
  },
  "cells": [
    {
      "cell_type": "markdown",
      "source": [
        "## ***Practical Questions***"
      ],
      "metadata": {
        "id": "zCKEwanbWM1E"
      }
    },
    {
      "cell_type": "code",
      "execution_count": null,
      "metadata": {
        "colab": {
          "base_uri": "https://localhost:8080/"
        },
        "id": "1AJqkDlGg6Ig",
        "outputId": "49af6a89-c5a7-4d6a-e6d9-e5fe207f979c"
      },
      "outputs": [
        {
          "output_type": "stream",
          "name": "stdout",
          "text": [
            "Hello, World!\n"
          ]
        }
      ],
      "source": [
        "# 1\n",
        "print(\"Hello, World!\")"
      ]
    },
    {
      "cell_type": "code",
      "source": [
        "# 2\n",
        "name = \"Bhushan\"\n",
        "age = 35\n",
        "print(f\"My Name is {name} & my age is {age}\")"
      ],
      "metadata": {
        "colab": {
          "base_uri": "https://localhost:8080/"
        },
        "id": "HAxm5zp6hLib",
        "outputId": "075fb88a-4901-4272-d528-7c33979fd3db"
      },
      "execution_count": null,
      "outputs": [
        {
          "output_type": "stream",
          "name": "stdout",
          "text": [
            "My Name is Bhushan & my age is 35\n"
          ]
        }
      ]
    },
    {
      "cell_type": "code",
      "source": [
        "# 3\n",
        "import keyword\n",
        "Keywords = keyword.kwlist\n",
        "print(Keywords)"
      ],
      "metadata": {
        "colab": {
          "base_uri": "https://localhost:8080/"
        },
        "id": "V6RNtLDWh_Xc",
        "outputId": "667d08c4-184c-4216-8ba2-f9e117086e7b"
      },
      "execution_count": null,
      "outputs": [
        {
          "output_type": "stream",
          "name": "stdout",
          "text": [
            "['False', 'None', 'True', 'and', 'as', 'assert', 'async', 'await', 'break', 'class', 'continue', 'def', 'del', 'elif', 'else', 'except', 'finally', 'for', 'from', 'global', 'if', 'import', 'in', 'is', 'lambda', 'nonlocal', 'not', 'or', 'pass', 'raise', 'return', 'try', 'while', 'with', 'yield']\n"
          ]
        }
      ]
    },
    {
      "cell_type": "code",
      "source": [
        "# 4\n",
        "import keyword\n",
        "\n",
        "word = input(\"Enter a word: \")\n",
        "\n",
        "if word in keyword.kwlist:\n",
        "  print(f\"{word} is a Python keyword.\")\n",
        "else:\n",
        "  print(f\"{word} is not a Python keyword.\")"
      ],
      "metadata": {
        "colab": {
          "base_uri": "https://localhost:8080/"
        },
        "id": "QAlj4VT0oYvZ",
        "outputId": "c230bb9a-c3d7-4434-c8db-d12f0c59c81a"
      },
      "execution_count": null,
      "outputs": [
        {
          "output_type": "stream",
          "name": "stdout",
          "text": [
            "Enter a word: bhushan\n",
            "bhushan is not a Python keyword.\n"
          ]
        }
      ]
    },
    {
      "cell_type": "code",
      "source": [
        "# 5\n",
        "L1 = [3 ,2 ,1 ,\"Bhushan\", \"Sunny\",\"Siddhesh\"]\n",
        "T1 =(4 , 5 , 6 ,\"Apple\",\"Banana\",\"Orange\" )\n",
        "print(L1)\n",
        "print(T1)\n"
      ],
      "metadata": {
        "colab": {
          "base_uri": "https://localhost:8080/"
        },
        "id": "30GkksPSQud5",
        "outputId": "903c3522-44b3-436b-eb07-cc284f9ed28c"
      },
      "execution_count": null,
      "outputs": [
        {
          "output_type": "stream",
          "name": "stdout",
          "text": [
            "[3, 2, 1, 'Bhushan', 'Sunny', 'Siddhesh']\n",
            "(4, 5, 6, 'Apple', 'Banana', 'Orange')\n"
          ]
        }
      ]
    },
    {
      "cell_type": "code",
      "source": [
        "L1.append(7)\n",
        "L1"
      ],
      "metadata": {
        "colab": {
          "base_uri": "https://localhost:8080/"
        },
        "id": "uZZh2z02bZsQ",
        "outputId": "f20c8c32-19e2-4389-f8b0-b98ca0d5af8a"
      },
      "execution_count": null,
      "outputs": [
        {
          "output_type": "execute_result",
          "data": {
            "text/plain": [
              "[3, 2, 1, 'Bhushan', 'Sunny', 'Siddhesh', 7, 7]"
            ]
          },
          "metadata": {},
          "execution_count": 26
        }
      ]
    },
    {
      "cell_type": "code",
      "source": [
        "L1.remove(7)\n",
        "L1"
      ],
      "metadata": {
        "colab": {
          "base_uri": "https://localhost:8080/"
        },
        "id": "0U18rK_-a3Mw",
        "outputId": "051e6916-7869-4ae7-db99-fc6f596cda21"
      },
      "execution_count": null,
      "outputs": [
        {
          "output_type": "execute_result",
          "data": {
            "text/plain": [
              "[3, 2, 1, 'Bhushan', 'Sunny', 'Siddhesh', 7]"
            ]
          },
          "metadata": {},
          "execution_count": 27
        }
      ]
    },
    {
      "cell_type": "code",
      "source": [
        "L1.insert(1,8)\n",
        "L1"
      ],
      "metadata": {
        "colab": {
          "base_uri": "https://localhost:8080/"
        },
        "id": "hIbLpVJmdy4Z",
        "outputId": "73364f85-7733-44ad-88d8-2b59aac0aa4f"
      },
      "execution_count": null,
      "outputs": [
        {
          "output_type": "execute_result",
          "data": {
            "text/plain": [
              "[3, 8, 2, 1, 'Bhushan', 'Sunny', 'Siddhesh', 7, 1]"
            ]
          },
          "metadata": {},
          "execution_count": 30
        }
      ]
    },
    {
      "cell_type": "code",
      "source": [
        "T1 # A tuple is a immutable datatype in python so we can not change items in it."
      ],
      "metadata": {
        "colab": {
          "base_uri": "https://localhost:8080/"
        },
        "id": "WWKLSJ7ieOc2",
        "outputId": "bc8c2c98-ff70-4874-96c6-02dd08a8064a"
      },
      "execution_count": null,
      "outputs": [
        {
          "output_type": "execute_result",
          "data": {
            "text/plain": [
              "(4, 5, 6, 'Apple', 'Banana', 'Orange')"
            ]
          },
          "metadata": {},
          "execution_count": 33
        }
      ]
    },
    {
      "cell_type": "code",
      "source": [
        "# 7\n",
        "\n",
        "num1 = int(input(\"Enter the first number: \"))\n",
        "num2 = int(input(\"Enter the second number: \"))\n",
        "Addition = num1 + num2\n",
        "print(f\"Addition of two number is: {Addition}\")\n",
        "Subtraction = num1 - num2\n",
        "print(f\"Subtraction of two number is: {Subtraction}\")\n",
        "Multiplication = num1 * num2\n",
        "print(f\"Multiplication of two number is: {Multiplication}\")\n",
        "Division = num1 / num2\n",
        "print(f\"Division of two number is: {Division}\")"
      ],
      "metadata": {
        "colab": {
          "base_uri": "https://localhost:8080/"
        },
        "id": "Kg8Lgcwqe94D",
        "outputId": "8c396ce6-ae96-437a-82c1-aa8c8a999e39"
      },
      "execution_count": null,
      "outputs": [
        {
          "output_type": "stream",
          "name": "stdout",
          "text": [
            "Enter the first number: 2\n",
            "Enter the second number: 2\n",
            "Addition of two number is: 4\n",
            "Subtraction of two number is: 0\n",
            "Multiplication of two number is: 4\n",
            "Division of two number is: 1.0\n"
          ]
        }
      ]
    },
    {
      "cell_type": "code",
      "source": [
        "# 8\n",
        "Percentage = int(input(\"Enter your percentage: \"))\n",
        "if Percentage >= 101:\n",
        "    print(\"Invalid Input\")\n",
        "elif Percentage >= 75:\n",
        "    print(\"You have got Distinction\")\n",
        "elif Percentage >= 60:\n",
        "    print(\"Grade A\")\n",
        "elif Percentage >= 50:\n",
        "    print(\"Grade B\")\n",
        "elif Percentage >= 40:\n",
        "    print(\"Grade C\")\n",
        "elif Percentage >= 35:\n",
        "    print(\"Passed with Gress Marks\")\n",
        "else:\n",
        "    print(\"Fail\")\n"
      ],
      "metadata": {
        "colab": {
          "base_uri": "https://localhost:8080/"
        },
        "id": "VVkHeQ6CDIJm",
        "outputId": "631a67bb-0ad5-4a64-c72c-33db6d1da09b"
      },
      "execution_count": null,
      "outputs": [
        {
          "output_type": "stream",
          "name": "stdout",
          "text": [
            "Enter your percentage: 36\n",
            "Gress Marks\n"
          ]
        }
      ]
    },
    {
      "cell_type": "code",
      "source": [
        "# 9\n",
        "if True:\n",
        "  string_name =input(\"Enter a string: \")\n",
        "  string_name = int(string_name)\n",
        "  print(string_name)\n",
        "  string_name = str(string_name)\n",
        "  print(string_name)\n",
        "  string_name = float(string_name)\n",
        "  print(string_name)\n",
        "  string_name = bool(string_name)\n",
        "  print(string_name)\n",
        "else:\n",
        "  print(\"Invalid Input\")"
      ],
      "metadata": {
        "colab": {
          "base_uri": "https://localhost:8080/"
        },
        "id": "jKvxItm6LXzR",
        "outputId": "82711f13-0657-4dfa-a652-ab09fcdad5e5"
      },
      "execution_count": null,
      "outputs": [
        {
          "output_type": "stream",
          "name": "stdout",
          "text": [
            "Enter a string: 1\n",
            "1\n",
            "1\n",
            "1.0\n",
            "True\n"
          ]
        }
      ]
    },
    {
      "cell_type": "code",
      "source": [
        "# 10\n",
        "l1 = [0, 1, 2, 3, 4, 5, 6, 7, 8, 9,10]\n",
        "l1"
      ],
      "metadata": {
        "colab": {
          "base_uri": "https://localhost:8080/"
        },
        "id": "oUMCW_AeVXL-",
        "outputId": "7b4345dc-fcb9-47f4-b212-55b09d033ae7"
      },
      "execution_count": null,
      "outputs": [
        {
          "output_type": "execute_result",
          "data": {
            "text/plain": [
              "[0, 1, 2, 3, 4, 5, 6, 7, 8, 9, 10]"
            ]
          },
          "metadata": {},
          "execution_count": 25
        }
      ]
    },
    {
      "cell_type": "code",
      "source": [
        "l1[0:10]\n",
        "l1"
      ],
      "metadata": {
        "colab": {
          "base_uri": "https://localhost:8080/"
        },
        "id": "WGg4vMywWELC",
        "outputId": "a77f89fe-5d53-42ec-d104-c0b85e489f47"
      },
      "execution_count": null,
      "outputs": [
        {
          "output_type": "execute_result",
          "data": {
            "text/plain": [
              "[0, 1, 2, 3, 4, 5, 6, 7, 8, 9, 10]"
            ]
          },
          "metadata": {},
          "execution_count": 28
        }
      ]
    },
    {
      "cell_type": "code",
      "source": [
        "l1[:5]\n",
        "l1"
      ],
      "metadata": {
        "colab": {
          "base_uri": "https://localhost:8080/"
        },
        "id": "Cr49tWG4XkdI",
        "outputId": "f1e00376-2e6c-4c8e-9598-ad44e2302620"
      },
      "execution_count": null,
      "outputs": [
        {
          "output_type": "execute_result",
          "data": {
            "text/plain": [
              "[0, 1, 2, 3, 4]"
            ]
          },
          "metadata": {},
          "execution_count": 29
        }
      ]
    },
    {
      "cell_type": "code",
      "source": [
        "l1[5:]\n",
        "l1"
      ],
      "metadata": {
        "colab": {
          "base_uri": "https://localhost:8080/"
        },
        "id": "DAd-8m7mZ4lG",
        "outputId": "c1256ccb-28f6-40e0-cec8-1dd9628a228e"
      },
      "execution_count": null,
      "outputs": [
        {
          "output_type": "execute_result",
          "data": {
            "text/plain": [
              "[5, 6, 7, 8, 9, 10]"
            ]
          },
          "metadata": {},
          "execution_count": 30
        }
      ]
    },
    {
      "cell_type": "code",
      "source": [
        "l1[0]\n",
        "l1"
      ],
      "metadata": {
        "colab": {
          "base_uri": "https://localhost:8080/"
        },
        "id": "7IcXf16TcOxN",
        "outputId": "befeb7d8-ea93-4bce-a89c-7e1a761b4224"
      },
      "execution_count": null,
      "outputs": [
        {
          "output_type": "execute_result",
          "data": {
            "text/plain": [
              "[0, 1, 2, 3, 4, 5, 6, 7, 8, 9, 10]"
            ]
          },
          "metadata": {},
          "execution_count": 32
        }
      ]
    },
    {
      "cell_type": "code",
      "source": [
        "# 11\n",
        "Check_number = int(input(\"Enter a number: \"))\n",
        "if Check_number <= -1:\n",
        "  print(\"The Number is Negative\")\n",
        "elif Check_number == 0:\n",
        "  print(\"The Number is Zero\")\n",
        "else:\n",
        "  print(\"The Number is Positive\")"
      ],
      "metadata": {
        "colab": {
          "base_uri": "https://localhost:8080/"
        },
        "id": "69VuU_GOYlvW",
        "outputId": "57779990-0b9c-4d96-fd69-baba0f436db3"
      },
      "execution_count": null,
      "outputs": [
        {
          "output_type": "stream",
          "name": "stdout",
          "text": [
            "Enter a number: 12\n",
            "The Number is Positive\n"
          ]
        }
      ]
    },
    {
      "cell_type": "code",
      "source": [
        "# 12\n",
        "number = [1, 2, 3, 4, 5, 6, 7, 8, 9, 10]\n",
        "for i in number:\n",
        "  print(i)"
      ],
      "metadata": {
        "colab": {
          "base_uri": "https://localhost:8080/"
        },
        "id": "m24sNvpVbiFz",
        "outputId": "522ebf83-4892-413c-f1c0-70b1c54329f8"
      },
      "execution_count": null,
      "outputs": [
        {
          "output_type": "stream",
          "name": "stdout",
          "text": [
            "1\n",
            "2\n",
            "3\n",
            "4\n",
            "5\n",
            "6\n",
            "7\n",
            "8\n",
            "9\n",
            "10\n"
          ]
        }
      ]
    },
    {
      "cell_type": "code",
      "source": [
        "for i in range(1, 11):\n",
        "    print(i)\n"
      ],
      "metadata": {
        "colab": {
          "base_uri": "https://localhost:8080/"
        },
        "id": "fGnRV2pyc5Y8",
        "outputId": "8a4d9326-8c68-44d5-8a4c-8835e1e3a48b"
      },
      "execution_count": null,
      "outputs": [
        {
          "output_type": "stream",
          "name": "stdout",
          "text": [
            "1\n",
            "2\n",
            "3\n",
            "4\n",
            "5\n",
            "6\n",
            "7\n",
            "8\n",
            "9\n",
            "10\n"
          ]
        }
      ]
    },
    {
      "cell_type": "code",
      "source": [
        "# 13\n",
        "sum = 0\n",
        "for i in range(2, 52, 2):\n",
        "    print(i)\n",
        "    sum = sum + i\n",
        "print(\"The sum of even numbers from 1 to 50 is:\", sum)"
      ],
      "metadata": {
        "colab": {
          "base_uri": "https://localhost:8080/"
        },
        "id": "XGB81Y9rd4-0",
        "outputId": "72ef8ffc-365c-4a8e-fa00-067d03a76605"
      },
      "execution_count": null,
      "outputs": [
        {
          "output_type": "stream",
          "name": "stdout",
          "text": [
            "2\n",
            "4\n",
            "6\n",
            "8\n",
            "10\n",
            "12\n",
            "14\n",
            "16\n",
            "18\n",
            "20\n",
            "22\n",
            "24\n",
            "26\n",
            "28\n",
            "30\n",
            "32\n",
            "34\n",
            "36\n",
            "38\n",
            "40\n",
            "42\n",
            "44\n",
            "46\n",
            "48\n",
            "50\n",
            "The sum of even numbers from 1 to 50 is: 650\n"
          ]
        }
      ]
    },
    {
      "cell_type": "code",
      "source": [
        "# 15\n",
        "num = int(input(\"Enter a number: \"))\n",
        "factorial = 1\n",
        "i = 1\n",
        "while i <= num:\n",
        "    factorial *= i\n",
        "    i += 1\n",
        "print(\"The factorial of\", num, \"is\", factorial)"
      ],
      "metadata": {
        "colab": {
          "base_uri": "https://localhost:8080/"
        },
        "id": "Zwt-L4jcfhbR",
        "outputId": "ffe150af-d2d2-481e-dea0-4203c5d60d95"
      },
      "execution_count": null,
      "outputs": [
        {
          "output_type": "stream",
          "name": "stdout",
          "text": [
            "Enter a number: 4\n",
            "The factorial of 4 is 24\n"
          ]
        }
      ]
    },
    {
      "cell_type": "markdown",
      "source": [
        "# **Theoretical Quesation**"
      ],
      "metadata": {
        "id": "pyYdET5vkQ4u"
      }
    },
    {
      "cell_type": "code",
      "source": [
        " # 1.What is Python, and why is it popular\n",
        "'''\n",
        "Python is a programming language.\n",
        "simple and easy to understand language.\n",
        "\n",
        "1.widely used in the industry\n",
        "2.A lot of libraries\n",
        "3.long community of uers\n",
        "4.Easy to learn\n",
        "5.Easy to use\n",
        "6.Easy to debug\n",
        "'''"
      ],
      "metadata": {
        "id": "-UEwmd4Rkeqd"
      },
      "execution_count": null,
      "outputs": []
    },
    {
      "cell_type": "code",
      "source": [
        "# 2.What is an interpreter in Python\n",
        "'''\n",
        "Interpreter in python is a program that reads and executes python code line by line.\n",
        "'''"
      ],
      "metadata": {
        "id": "BaJP13pEsBDT"
      },
      "execution_count": null,
      "outputs": []
    },
    {
      "cell_type": "code",
      "source": [
        "# 3.What are pre-defined keywords in Python\n",
        "'''\n",
        "In Python, pre-defined keywords are reserved words that have special meaning and are part of the syntax of the language.\n",
        "You cannot use these words as identifiers, such as variable names or function names, as they are integral to the structure and function of the language.\n",
        "'''\n"
      ],
      "metadata": {
        "id": "wqdcz2lvsmV_"
      },
      "execution_count": null,
      "outputs": []
    },
    {
      "cell_type": "code",
      "source": [
        "# 4.Can keywords be used as variable names\n",
        "'''\n",
        "No, keywords cannot be used as variable names in Python.They are reserved word with special meaning and are part of the syntax of the language.\n",
        "'''"
      ],
      "metadata": {
        "id": "n5KY23gTwneC"
      },
      "execution_count": null,
      "outputs": []
    },
    {
      "cell_type": "code",
      "source": [
        "# 5.What is mutability in Python\n",
        "'''\n",
        "Mutability mean after creation you can change the value,update,create.\n",
        "For example - List\n",
        "'''"
      ],
      "metadata": {
        "id": "Jtls18p_xF9h"
      },
      "execution_count": null,
      "outputs": []
    },
    {
      "cell_type": "code",
      "source": [
        "# 6.Why are lists mutable, but tuples are immutable\n",
        "'''\n",
        "I think if you need to change value after creation then you can create list\n",
        "but if you dont dont want to change then you can create the tuple\n",
        "'''"
      ],
      "metadata": {
        "id": "iWtPoHd4xjMC"
      },
      "execution_count": null,
      "outputs": []
    },
    {
      "cell_type": "code",
      "source": [
        "# 7.What is the difference between “==” and “is” operators in Python\n",
        "'''\n",
        "\"==\" is the logical operator ,compare to check equal. eg. a == b\n",
        "\"is\" opearator is used to compare identtity of two objects. eg. a is b\n",
        "'''\n"
      ],
      "metadata": {
        "id": "2G8p-m-kyNLi"
      },
      "execution_count": null,
      "outputs": []
    },
    {
      "cell_type": "code",
      "source": [
        "# 8.What are logical operators in Python\n",
        "'''\n",
        "used to combine conditional statements.\n",
        "AND = Returns when both are true\n",
        "OR = Returns true when atleast one is true\n",
        "NOT = Returns true when false\n",
        "\n",
        "'''"
      ],
      "metadata": {
        "id": "PH2uZIgGzcdb"
      },
      "execution_count": null,
      "outputs": []
    },
    {
      "cell_type": "code",
      "source": [
        "# 9.What is type casting in Python\n",
        "'''\n",
        "type castin/type conversion is used to convert one data type to another.\n",
        "'''\n",
        "'''"
      ],
      "metadata": {
        "id": "iC32KeYi0muB"
      },
      "execution_count": null,
      "outputs": []
    },
    {
      "cell_type": "code",
      "source": [
        "# 10.What is the difference between implicit and explicit type casting\n",
        "\"\"\"\n",
        "Implicit type casting = PYthon automatically convert one data type to another.\n",
        "control by python language.\n",
        "\n",
        "\n",
        "Explicit type casting = programmer need to convert one data type to another.\n",
        "control by the programmer.\n",
        "\"\"\""
      ],
      "metadata": {
        "id": "IWK9BdN91H_C"
      },
      "execution_count": null,
      "outputs": []
    },
    {
      "cell_type": "code",
      "source": [
        "# 11.What is the purpose of conditional statements in Python\n",
        "\"\"\"\n",
        "used to make decisions in your code. They allow you to execute specific blocks of code based on whether certain conditions are true or false.\n",
        "This provides a way to control the flow of a program and respond dynamically to different inputs and situations.\n",
        "\"\"\""
      ],
      "metadata": {
        "id": "xnFowmwF2jTO"
      },
      "execution_count": null,
      "outputs": []
    },
    {
      "cell_type": "code",
      "source": [
        "# 12.How does the elif statement work\n",
        "\"\"\"\n",
        "When the interpreter encounters an if statement, it checks the condition:\n",
        "\n",
        "If the condition is True, it executes the associated block of code and skips the rest.\n",
        "\n",
        "If the condition is False, it moves on to the next elif condition (if any).\n",
        "\n",
        "This process continues until a True condition is found or the final else block is reached (if it exists).\n",
        "\"\"\""
      ],
      "metadata": {
        "id": "xDiJl_1z53ux"
      },
      "execution_count": null,
      "outputs": []
    },
    {
      "cell_type": "code",
      "source": [
        "# 13.What is the difference between for and while loops\n",
        "\"\"\"\n",
        "for loop =iterate over a sequence\n",
        "ideal for iterate thorugh condition\n",
        "automatically update the loop variable\n",
        "\n",
        "while loop=execute as long as condition is true\n",
        "ideal for indetermine condition\n",
        "manually update the loop variable\n",
        "\"\"\""
      ],
      "metadata": {
        "id": "Jwprt6AQ6e2a"
      },
      "execution_count": null,
      "outputs": []
    },
    {
      "cell_type": "code",
      "source": [
        "# 14.Describe a scenario where a while loop is more suitable than a for loop\n",
        "\"\"\"\n",
        "In this scenario, a while loop is perfect because we don't know how many attempts the user will need to enter the correct password.\n",
        "The loop continues until the user inputs the correct password.\n",
        "A for loop would be less suitable here because it typically iterates a fixed number of times.\n",
        "\"\"\"\n"
      ],
      "metadata": {
        "id": "Nvnuf9KL79OZ"
      },
      "execution_count": null,
      "outputs": []
    },
    {
      "cell_type": "code",
      "source": [
        "password = \"secret\"\n",
        "user_input = \"\"\n",
        "\n",
        "while user_input != password:\n",
        "    user_input = input(\"Enter the password: \")\n",
        "\n",
        "print(\"Access granted!\")"
      ],
      "metadata": {
        "colab": {
          "base_uri": "https://localhost:8080/"
        },
        "id": "MkFhbvJpfOTJ",
        "outputId": "bf15e314-3ef4-4dec-921c-f82971aa097e"
      },
      "execution_count": 1,
      "outputs": [
        {
          "output_type": "stream",
          "name": "stdout",
          "text": [
            "Enter the password: hi\n",
            "Enter the password: hello\n",
            "Enter the password: password\n",
            "Enter the password: secret\n",
            "Access granted!\n"
          ]
        }
      ]
    }
  ]
}