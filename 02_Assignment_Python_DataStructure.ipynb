{
  "cells": [
    {
      "cell_type": "markdown",
      "metadata": {
        "id": "h3N0ne96dGWS"
      },
      "source": [
        "# ***02_Assignment_Python_DataStructure***"
      ]
    },
    {
      "cell_type": "markdown",
      "metadata": {
        "id": "V20uqs45d46l"
      },
      "source": [
        "# **Practical Questions**"
      ]
    },
    {
      "cell_type": "markdown",
      "metadata": {
        "id": "lm2twycVeKn3"
      },
      "source": [
        "**01.Write a code to create a string with your name and print it.**"
      ]
    },
    {
      "cell_type": "code",
      "execution_count": null,
      "metadata": {
        "colab": {
          "base_uri": "https://localhost:8080/"
        },
        "id": "-6gIM0eldzBG",
        "outputId": "67743e7d-8bb0-4fd3-c8c1-3d07dbd740bc"
      },
      "outputs": [
        {
          "name": "stdout",
          "output_type": "stream",
          "text": [
            "Bhushan Birari\n"
          ]
        }
      ],
      "source": [
        "my_name = \"Bhushan Birari\"\n",
        "print(my_name)"
      ]
    },
    {
      "cell_type": "markdown",
      "metadata": {
        "id": "Eg6kA9uOe_KG"
      },
      "source": [
        "**2.Write a code to find the length of the string \"Hello World\".**"
      ]
    },
    {
      "cell_type": "code",
      "execution_count": null,
      "metadata": {
        "colab": {
          "base_uri": "https://localhost:8080/"
        },
        "id": "6gcPqP4AeSTT",
        "outputId": "a887fdd7-81c9-4512-ed27-e8c172bb303a"
      },
      "outputs": [
        {
          "name": "stdout",
          "output_type": "stream",
          "text": [
            "11\n"
          ]
        }
      ],
      "source": [
        "length_string = \"Hello World\"\n",
        "print(len(length_string))"
      ]
    },
    {
      "cell_type": "markdown",
      "metadata": {
        "id": "CG06g94sfjjA"
      },
      "source": [
        "\n",
        "**3.Write a code to slice the first 3 characters from the string \"Python Programming\".**"
      ]
    },
    {
      "cell_type": "code",
      "execution_count": null,
      "metadata": {
        "colab": {
          "base_uri": "https://localhost:8080/"
        },
        "id": "fa8uGe9mfVJr",
        "outputId": "7c4e06e0-2890-46b1-d7b9-47eb2ab78a4a"
      },
      "outputs": [
        {
          "name": "stdout",
          "output_type": "stream",
          "text": [
            "Pyt\n"
          ]
        }
      ],
      "source": [
        "slice_string = \"Python Programming\"\n",
        "print(slice_string[:3])"
      ]
    },
    {
      "cell_type": "markdown",
      "metadata": {
        "id": "mfNggYcelXMo"
      },
      "source": [
        "**4.Write a code to convert the string \"hello\" to uppercase**"
      ]
    },
    {
      "cell_type": "code",
      "execution_count": 9,
      "metadata": {
        "colab": {
          "base_uri": "https://localhost:8080/"
        },
        "id": "0WjkP8DYk_yy",
        "outputId": "fdb777b3-ea9a-4d5a-c3e0-92d3b9328497"
      },
      "outputs": [
        {
          "output_type": "stream",
          "name": "stdout",
          "text": [
            "HELLO\n"
          ]
        }
      ],
      "source": [
        "convert_string = \"hello\"\n",
        "print(convert_string.upper())"
      ]
    },
    {
      "cell_type": "markdown",
      "source": [
        "**5.Write a code to replace the word \"apple\" with \"orange\" in the string \"I like apple\".**"
      ],
      "metadata": {
        "id": "a0lRTCv9mirn"
      }
    },
    {
      "cell_type": "code",
      "source": [
        "str_word = \"I Like apple\"\n",
        "new_string = str_word.replace(\"apple\",\"orange\")\n",
        "print(new_string)"
      ],
      "metadata": {
        "colab": {
          "base_uri": "https://localhost:8080/"
        },
        "id": "Ceo4Riv5mkEA",
        "outputId": "d13afe9f-9915-4d77-c848-ce6d2f08ba68"
      },
      "execution_count": 14,
      "outputs": [
        {
          "output_type": "stream",
          "name": "stdout",
          "text": [
            "I Like orange\n"
          ]
        }
      ]
    },
    {
      "cell_type": "markdown",
      "source": [
        "**6.Write a code to create a list with numbers 1 to 5 and print it.**"
      ],
      "metadata": {
        "id": "lixkvVFptNXB"
      }
    },
    {
      "cell_type": "code",
      "source": [
        "List1 = [1, 2, 3, 4, 5]\n",
        "print(List1)"
      ],
      "metadata": {
        "colab": {
          "base_uri": "https://localhost:8080/"
        },
        "id": "14Sqt_u7nmFq",
        "outputId": "e345d62d-2592-4be8-c50f-dc7ffe8cd6b9"
      },
      "execution_count": 15,
      "outputs": [
        {
          "output_type": "stream",
          "name": "stdout",
          "text": [
            "[1, 2, 3, 4, 5]\n"
          ]
        }
      ]
    },
    {
      "cell_type": "code",
      "source": [
        "my_list = list(range(1, 6))\n",
        "print(my_list)"
      ],
      "metadata": {
        "colab": {
          "base_uri": "https://localhost:8080/"
        },
        "id": "2pEXg-ZftWj3",
        "outputId": "4a437c41-6ed7-47c4-f4e9-f5317e0cea65"
      },
      "execution_count": 20,
      "outputs": [
        {
          "output_type": "stream",
          "name": "stdout",
          "text": [
            "[1, 2, 3, 4, 5]\n"
          ]
        }
      ]
    },
    {
      "cell_type": "markdown",
      "source": [
        "**7.Write a code to append the number 10 to the list [1, 2, 3, 4].**"
      ],
      "metadata": {
        "id": "dfMf8mXouUwX"
      }
    },
    {
      "cell_type": "code",
      "source": [
        "number = [1, 2, 3, 4]\n",
        "append_number = number.append(10)\n",
        "print(number)"
      ],
      "metadata": {
        "colab": {
          "base_uri": "https://localhost:8080/"
        },
        "id": "0bNSM9AMtqGq",
        "outputId": "f347d97e-3918-4015-8e5a-7e36699d68e1"
      },
      "execution_count": 24,
      "outputs": [
        {
          "output_type": "stream",
          "name": "stdout",
          "text": [
            "[1, 2, 3, 4, 10]\n"
          ]
        }
      ]
    },
    {
      "cell_type": "markdown",
      "source": [
        "**8.Write a code to remove the number 3 from the list [1, 2, 3, 4, 5].**"
      ],
      "metadata": {
        "id": "NM--aWE8u5fv"
      }
    },
    {
      "cell_type": "code",
      "source": [
        "number1 = [1, 2, 3, 4, 5]\n",
        "remove_number = number1.remove(3)\n",
        "print(number1)"
      ],
      "metadata": {
        "colab": {
          "base_uri": "https://localhost:8080/"
        },
        "id": "0J3w2tBfu5Fn",
        "outputId": "c4a38206-5229-4730-885e-86ecd22fdcd1"
      },
      "execution_count": 25,
      "outputs": [
        {
          "output_type": "stream",
          "name": "stdout",
          "text": [
            "[1, 2, 4, 5]\n"
          ]
        }
      ]
    },
    {
      "cell_type": "markdown",
      "source": [
        "**9.Write a code to access the second element in the list ['a', 'b', 'c', 'd']**"
      ],
      "metadata": {
        "id": "PS92BLgWwC_X"
      }
    },
    {
      "cell_type": "code",
      "source": [
        "element = [\"a\",\"b\",\"c\",\"d\"]\n",
        "print(element[1])"
      ],
      "metadata": {
        "colab": {
          "base_uri": "https://localhost:8080/"
        },
        "id": "W6q10a5Dus7Z",
        "outputId": "468f6c4f-3bea-4016-9a4e-6a980bd2af24"
      },
      "execution_count": 26,
      "outputs": [
        {
          "output_type": "stream",
          "name": "stdout",
          "text": [
            "b\n"
          ]
        }
      ]
    },
    {
      "cell_type": "markdown",
      "source": [
        "**10.Write a code to reverse the list [10, 20, 30, 40, 50].**"
      ],
      "metadata": {
        "id": "pGE1JZU7y1ov"
      }
    },
    {
      "cell_type": "code",
      "source": [
        "reverse_list = [10 ,20 ,30, 40, 50]\n",
        "reverse_list.reverse()\n",
        "print(reverse_list)"
      ],
      "metadata": {
        "colab": {
          "base_uri": "https://localhost:8080/"
        },
        "id": "XsiYvuA9y-mf",
        "outputId": "7e5b15c6-687c-4258-ea3c-d72d4e68e7fe"
      },
      "execution_count": 27,
      "outputs": [
        {
          "output_type": "stream",
          "name": "stdout",
          "text": [
            "[50, 40, 30, 20, 10]\n"
          ]
        }
      ]
    },
    {
      "cell_type": "markdown",
      "source": [
        "**11.Write a code to create a tuple with the elements 100, 200, 300 and print it.**"
      ],
      "metadata": {
        "id": "f-nfUBNazTFf"
      }
    },
    {
      "cell_type": "code",
      "source": [
        "tuple1 = (100, 200, 300)\n",
        "print(tuple1)\n",
        "type(tuple1)"
      ],
      "metadata": {
        "colab": {
          "base_uri": "https://localhost:8080/"
        },
        "id": "gerH75LczJUN",
        "outputId": "755abff9-ed5d-49c1-d783-7d11443eaa7a"
      },
      "execution_count": 29,
      "outputs": [
        {
          "output_type": "stream",
          "name": "stdout",
          "text": [
            "(100, 200, 300)\n"
          ]
        },
        {
          "output_type": "execute_result",
          "data": {
            "text/plain": [
              "tuple"
            ]
          },
          "metadata": {},
          "execution_count": 29
        }
      ]
    },
    {
      "cell_type": "markdown",
      "source": [
        "**12.Write a code to access the second-to-last element of the tuple ('red', 'green', 'blue', 'yellow').**"
      ],
      "metadata": {
        "id": "MSDU7R3mz7yX"
      }
    },
    {
      "cell_type": "code",
      "source": [
        "my_tuple = (\"red\", \"green\", \"blue\", \"yellow\")\n",
        "print(my_tuple[1:])"
      ],
      "metadata": {
        "colab": {
          "base_uri": "https://localhost:8080/"
        },
        "id": "sZEglXJuz8xo",
        "outputId": "0b7a30de-928b-4d08-f96f-a8a3d5f7b055"
      },
      "execution_count": 31,
      "outputs": [
        {
          "output_type": "stream",
          "name": "stdout",
          "text": [
            "('green', 'blue', 'yellow')\n"
          ]
        }
      ]
    },
    {
      "cell_type": "markdown",
      "source": [
        "**13.Write a code to find the minimum number in the tuple (10, 20, 5, 15).**"
      ],
      "metadata": {
        "id": "IWorV3Lf0qsk"
      }
    },
    {
      "cell_type": "code",
      "source": [
        "min_tuple = (10, 20, 5, 15)\n",
        "minimum_number = min(min_tuple)\n",
        "print(minimum_number)"
      ],
      "metadata": {
        "colab": {
          "base_uri": "https://localhost:8080/"
        },
        "id": "11Tedjo80rYp",
        "outputId": "7eac1415-72f3-4cf5-f81c-33fda8575784"
      },
      "execution_count": 34,
      "outputs": [
        {
          "output_type": "stream",
          "name": "stdout",
          "text": [
            "5\n"
          ]
        }
      ]
    },
    {
      "cell_type": "markdown",
      "source": [
        "**14.Write a code to find the index of the element \"cat\" in the tuple ('dog', 'cat', 'rabbit').**"
      ],
      "metadata": {
        "id": "VdVlk09l10K4"
      }
    },
    {
      "cell_type": "code",
      "source": [
        "my_tuple = ('dog', 'cat', 'rabbit')\n",
        "index = my_tuple.index('cat')\n",
        "print(index)"
      ],
      "metadata": {
        "colab": {
          "base_uri": "https://localhost:8080/"
        },
        "id": "BJLcMeEl1SmG",
        "outputId": "e61344cb-f6cb-4e96-bc3e-949916bd7c7c"
      },
      "execution_count": 35,
      "outputs": [
        {
          "output_type": "stream",
          "name": "stdout",
          "text": [
            "1\n"
          ]
        }
      ]
    },
    {
      "cell_type": "markdown",
      "source": [
        "**15.Write a code to create a tuple containing three different fruits and check if \"kiwi\" is in it.**"
      ],
      "metadata": {
        "id": "KF1Rf39f3Wr4"
      }
    },
    {
      "cell_type": "code",
      "source": [
        "fruits = (\"apple\", \"kiwi\", \"banana\")\n",
        "if \"kiwi\" in fruits:\n",
        "  print(\"kiwi is in tuple\")\n",
        "else:\n",
        "  print(\"kiwi is not in tuple\")"
      ],
      "metadata": {
        "colab": {
          "base_uri": "https://localhost:8080/"
        },
        "id": "q3e2kYI04CZu",
        "outputId": "26dfd962-e487-468a-de8f-2b34ac4d2602"
      },
      "execution_count": 42,
      "outputs": [
        {
          "output_type": "stream",
          "name": "stdout",
          "text": [
            "kiwi is in tuple\n"
          ]
        }
      ]
    },
    {
      "cell_type": "markdown",
      "source": [
        "**16.Write a code to create a tuple containing three different fruits and check if \"kiwi\" is in it.**"
      ],
      "metadata": {
        "id": "x5izT_fD5aE3"
      }
    },
    {
      "cell_type": "code",
      "source": [
        "my_set = {\"a\", \"b\", \"c\"}\n",
        "print(my_set)"
      ],
      "metadata": {
        "colab": {
          "base_uri": "https://localhost:8080/"
        },
        "id": "3IbK_ZLo45kI",
        "outputId": "d4b3454c-2c2a-4244-8e80-384855c0b87e"
      },
      "execution_count": 44,
      "outputs": [
        {
          "output_type": "stream",
          "name": "stdout",
          "text": [
            "{'a', 'c', 'b'}\n"
          ]
        }
      ]
    },
    {
      "cell_type": "markdown",
      "source": [
        "**17. Write a code to clear all elements from the set {1, 2, 3, 4, 5}**"
      ],
      "metadata": {
        "id": "3v-HpymCTaor"
      }
    },
    {
      "cell_type": "code",
      "source": [
        "my_set = {1, 2, 3, 4, 5}\n",
        "my_set.clear()\n",
        "print(my_set)"
      ],
      "metadata": {
        "colab": {
          "base_uri": "https://localhost:8080/"
        },
        "id": "NVr-8wt254YD",
        "outputId": "8ac7f355-615b-4715-ef67-99e8ba019e88"
      },
      "execution_count": 2,
      "outputs": [
        {
          "output_type": "stream",
          "name": "stdout",
          "text": [
            "set()\n"
          ]
        }
      ]
    },
    {
      "cell_type": "markdown",
      "source": [
        "**18.Write a code to remove the element 4 from the set {1, 2, 3, 4}.**"
      ],
      "metadata": {
        "id": "VbYc4g4KUlHT"
      }
    },
    {
      "cell_type": "code",
      "source": [
        "my_list = {1, 2, 3, 4}\n",
        "my_list.remove(4)\n",
        "print(my_list)"
      ],
      "metadata": {
        "colab": {
          "base_uri": "https://localhost:8080/"
        },
        "id": "NwauzOJFUmsk",
        "outputId": "051f73a4-0c3d-40a4-f102-42f8fcdfc61c"
      },
      "execution_count": 5,
      "outputs": [
        {
          "output_type": "stream",
          "name": "stdout",
          "text": [
            "{1, 2, 3}\n"
          ]
        }
      ]
    },
    {
      "cell_type": "markdown",
      "source": [
        "**19.Write a code to find the union of two sets {1, 2, 3} and {3, 4, 5}.**"
      ],
      "metadata": {
        "id": "eM3QvvXUU8BE"
      }
    },
    {
      "cell_type": "code",
      "source": [
        "set1  = {1, 2, 3}\n",
        "set2 = {3, 4, 5}\n",
        "union_set = set1.union(set2)\n",
        "print(union_set)"
      ],
      "metadata": {
        "colab": {
          "base_uri": "https://localhost:8080/"
        },
        "id": "BRjg08kOU7nT",
        "outputId": "69f391d4-23a3-40a2-bc75-4a07652d1680"
      },
      "execution_count": 6,
      "outputs": [
        {
          "output_type": "stream",
          "name": "stdout",
          "text": [
            "{1, 2, 3, 4, 5}\n"
          ]
        }
      ]
    },
    {
      "cell_type": "markdown",
      "source": [
        "**20. Write a code to find the intersection of two sets {1, 2, 3} and {2, 3, 4}.**"
      ],
      "metadata": {
        "id": "EGjv7BpIVWdL"
      }
    },
    {
      "cell_type": "code",
      "source": [
        "set1 = {1, 2, 3}\n",
        "set2 = {2, 3, 4}\n",
        "intersection_set = set1.intersection(set2)\n",
        "print(intersection_set)"
      ],
      "metadata": {
        "colab": {
          "base_uri": "https://localhost:8080/"
        },
        "id": "SrQEZmeVUxMC",
        "outputId": "bcb27e32-78b9-4fba-a5c7-940c48f9e0e8"
      },
      "execution_count": 7,
      "outputs": [
        {
          "output_type": "stream",
          "name": "stdout",
          "text": [
            "{2, 3}\n"
          ]
        }
      ]
    },
    {
      "cell_type": "markdown",
      "source": [
        "**21.Write a code to create a dictionary with the keys \"name\", \"age\", and \"city\", and print it**"
      ],
      "metadata": {
        "id": "qSzY1HX3YqHU"
      }
    },
    {
      "cell_type": "code",
      "source": [
        "my_dict = {\"NAME\":\"BHUSHAN\", \"AGE\": 35, \"CITY\":\"CHENNAI\"}\n",
        "print(my_dict)\n",
        "type(my_dict)"
      ],
      "metadata": {
        "colab": {
          "base_uri": "https://localhost:8080/"
        },
        "id": "nKa6YTqcYpw9",
        "outputId": "f2e2550b-df14-4f3b-c20d-2ca3f373bb64"
      },
      "execution_count": 10,
      "outputs": [
        {
          "output_type": "stream",
          "name": "stdout",
          "text": [
            "{'NAME': 'BHUSHAN', 'AGE': 35, 'CITY': 'CHENNAI'}\n"
          ]
        },
        {
          "output_type": "execute_result",
          "data": {
            "text/plain": [
              "dict"
            ]
          },
          "metadata": {},
          "execution_count": 10
        }
      ]
    },
    {
      "cell_type": "markdown",
      "source": [
        "**22.Write a code to add a new key-value pair \"country\": \"USA\" to the dictionary {'name': 'John', 'age': 25}.**"
      ],
      "metadata": {
        "id": "qgPeMWH0Z_Fy"
      }
    },
    {
      "cell_type": "code",
      "source": [
        "my_dict = {\"name\":\"john\", \"age\": 25}\n",
        "my_dict[\"country\"] = \"USA\"\n",
        "print(my_dict)"
      ],
      "metadata": {
        "colab": {
          "base_uri": "https://localhost:8080/"
        },
        "id": "yghK5uY8Z4Z2",
        "outputId": "8eb73926-ba64-4d0c-f391-98785ab12740"
      },
      "execution_count": 16,
      "outputs": [
        {
          "output_type": "stream",
          "name": "stdout",
          "text": [
            "{'name': 'john', 'age': 25, 'country': 'USA'}\n"
          ]
        }
      ]
    },
    {
      "cell_type": "markdown",
      "source": [
        "**23.Write a code to access the value associated with the key \"name\" in the dictionary {'name': 'Alice', 'age': 30}.**"
      ],
      "metadata": {
        "id": "sr_rn1k6bCp4"
      }
    },
    {
      "cell_type": "code",
      "source": [
        "my_dict = {\"name\":\"alice\", \"age\": 30}\n",
        "print(my_dict[\"name\"])"
      ],
      "metadata": {
        "colab": {
          "base_uri": "https://localhost:8080/"
        },
        "id": "vsX_BDqBaspS",
        "outputId": "3a6ec8e8-f713-448e-dd27-2c3a1f8be375"
      },
      "execution_count": 19,
      "outputs": [
        {
          "output_type": "stream",
          "name": "stdout",
          "text": [
            "alice\n"
          ]
        }
      ]
    },
    {
      "cell_type": "markdown",
      "source": [
        "**24. Write a code to remove the key \"age\" from the dictionary {'name': 'Bob', 'age': 22, 'city': 'New York'}.**"
      ],
      "metadata": {
        "id": "OovQ0maRb_Nu"
      }
    },
    {
      "cell_type": "code",
      "source": [
        "my_dict = {\"name\":\"Bob\", \"age\": 22, \"city\":\"New York\"}\n",
        "del my_dict[\"age\"]\n",
        "print(my_dict)"
      ],
      "metadata": {
        "colab": {
          "base_uri": "https://localhost:8080/"
        },
        "id": "hpm9uU7YbhtO",
        "outputId": "0c184721-44bf-4a2a-e133-f3d442183098"
      },
      "execution_count": 21,
      "outputs": [
        {
          "output_type": "stream",
          "name": "stdout",
          "text": [
            "{'name': 'Bob', 'city': 'New York'}\n"
          ]
        }
      ]
    },
    {
      "cell_type": "markdown",
      "source": [
        "**25.Write a code to check if the key \"city\" exists in the dictionary {'name': 'Alice', 'city': 'Paris'}**."
      ],
      "metadata": {
        "id": "COBo-VDfddtP"
      }
    },
    {
      "cell_type": "code",
      "source": [
        "my_dict = {'name': 'Alice', 'city': 'Paris'}\n",
        "if \"city\" in my_dict:\n",
        "  print(\"city is available\")\n",
        "else:\n",
        "  print(\"city is not available\")"
      ],
      "metadata": {
        "colab": {
          "base_uri": "https://localhost:8080/"
        },
        "id": "eP1hfSezeoss",
        "outputId": "e68cc044-2e15-4033-ec07-3e9292f7227e"
      },
      "execution_count": 22,
      "outputs": [
        {
          "output_type": "stream",
          "name": "stdout",
          "text": [
            "city is available\n"
          ]
        }
      ]
    },
    {
      "cell_type": "markdown",
      "source": [
        "**26.Write a code to create a list, a tuple, and a dictionary, and print them all**"
      ],
      "metadata": {
        "id": "GVkJgAX3iM_9"
      }
    },
    {
      "cell_type": "code",
      "source": [
        "l1 = [1, 2, 3, \"bhushan\"]\n",
        "t1 = (\"a\", \"b\", \"c\", 4)\n",
        "d1 = {\"name\":\"sunny\",\"age\":35,\"city\":\"chennai\"}\n",
        "print(\"list -\",l1, \"\\nTuple -\",t1,\"\\ndictonary -\" ,d1)"
      ],
      "metadata": {
        "colab": {
          "base_uri": "https://localhost:8080/"
        },
        "id": "3TQr05Z7iOJy",
        "outputId": "423c8ffd-a123-4e6f-8d03-a5507560c047"
      },
      "execution_count": 29,
      "outputs": [
        {
          "output_type": "stream",
          "name": "stdout",
          "text": [
            "list - [1, 2, 3, 'bhushan'] \n",
            "Tuple - ('a', 'b', 'c', 4) \n",
            "dictonary - {'name': 'sunny', 'age': 35, 'city': 'chennai'}\n"
          ]
        }
      ]
    },
    {
      "cell_type": "markdown",
      "source": [
        "**27.Write a code to create a list of 5 random numbers between 1 and 100, sort it in ascending order, and print the\n",
        "result.(replaced)**"
      ],
      "metadata": {
        "id": "-kr9dBUBkLx3"
      }
    },
    {
      "cell_type": "code",
      "source": [
        "import random\n",
        "random_numbers = []\n",
        "for i in range(5):\n",
        "  random_numbers.append(random.randint(1, 100))\n",
        "random_numbers.sort()\n",
        "print(random_numbers)"
      ],
      "metadata": {
        "colab": {
          "base_uri": "https://localhost:8080/"
        },
        "id": "oyNlrUlCkw55",
        "outputId": "913a0519-c545-4cf4-8816-6e659a93ef2f"
      },
      "execution_count": 39,
      "outputs": [
        {
          "output_type": "stream",
          "name": "stdout",
          "text": [
            "[7, 18, 49, 71, 94]\n"
          ]
        }
      ]
    },
    {
      "cell_type": "markdown",
      "source": [
        "**28.Write a code to create a list with strings and print the element at the third index.**"
      ],
      "metadata": {
        "id": "UtRgSm3Tl0Ev"
      }
    },
    {
      "cell_type": "code",
      "source": [
        "my_list = [\"bhushan\", \"minakshi\" ,\"sunny\" ,\"siddhesh\" ,\"janhavi\"]\n",
        "print(my_list[2])"
      ],
      "metadata": {
        "colab": {
          "base_uri": "https://localhost:8080/"
        },
        "id": "fLJCH4cymkBL",
        "outputId": "833e56ab-654f-4b25-afab-4b814ba9fb76"
      },
      "execution_count": 40,
      "outputs": [
        {
          "output_type": "stream",
          "name": "stdout",
          "text": [
            "sunny\n"
          ]
        }
      ]
    },
    {
      "cell_type": "markdown",
      "source": [
        "**29.Write a code to combine two dictionaries into one and print the result.**"
      ],
      "metadata": {
        "id": "3S3-SboRmxr1"
      }
    },
    {
      "cell_type": "code",
      "source": [
        "my_dict = {\"name\":\"bhushan\",\"age\":35,\"course\":\"Data Science\",\"city\":\"chennai\"}\n",
        "marks_dict = {\"sub1\":50, \"sub2\":60,\"sub3\":70}\n",
        "my_dict.update(marks_dict)\n",
        "print(my_dict)"
      ],
      "metadata": {
        "colab": {
          "base_uri": "https://localhost:8080/"
        },
        "id": "coGmZ2nMm14l",
        "outputId": "8d1a0cc0-5aeb-4d65-8572-64a2ac4309ce"
      },
      "execution_count": 43,
      "outputs": [
        {
          "output_type": "stream",
          "name": "stdout",
          "text": [
            "{'name': 'bhushan', 'age': 35, 'course': 'Data Science', 'city': 'chennai', 'sub1': 50, 'sub2': 60, 'sub3': 70}\n"
          ]
        }
      ]
    },
    {
      "cell_type": "markdown",
      "source": [
        "**30.Write a code to convert a list of strings into a set.**"
      ],
      "metadata": {
        "id": "0N4i2kLRqEOk"
      }
    },
    {
      "cell_type": "code",
      "source": [
        "my_list = [\"apple\", \"banana\", \"kiwi\", \"mango\", \"Termind\"]\n",
        "my_set = set(my_list)\n",
        "print(my_set)\n",
        "type(my_set)"
      ],
      "metadata": {
        "colab": {
          "base_uri": "https://localhost:8080/"
        },
        "id": "PlZ1WwoPqD5X",
        "outputId": "a46ef8e2-b043-4d6e-a7b0-8d8d8c18ffcc"
      },
      "execution_count": 45,
      "outputs": [
        {
          "output_type": "stream",
          "name": "stdout",
          "text": [
            "{'Termind', 'banana', 'kiwi', 'mango', 'apple'}\n"
          ]
        },
        {
          "output_type": "execute_result",
          "data": {
            "text/plain": [
              "set"
            ]
          },
          "metadata": {},
          "execution_count": 45
        }
      ]
    },
    {
      "cell_type": "markdown",
      "source": [
        "# **Data Types and Structures Questions-Therotical**"
      ],
      "metadata": {
        "id": "B_ml2ff-q8ZI"
      }
    },
    {
      "cell_type": "markdown",
      "source": [
        "**1.What are data structures, and why are they important**"
      ],
      "metadata": {
        "id": "VI8fkJwAZuIL"
      }
    },
    {
      "cell_type": "markdown",
      "source": [
        "\n",
        "\n",
        "*   Data structures are ways to organize and store\n",
        "data so that it can be used efficiently. Think of them as different types of containers, each suited for specific purposes\n",
        "*   \n",
        "They help you manage data effectively, making your programs faster and more efficient. Understanding data structures is like having the right tools to tackle different problems.\n",
        "\n",
        "\n"
      ],
      "metadata": {
        "id": "HxtHC90QZzsE"
      }
    },
    {
      "cell_type": "markdown",
      "source": [
        "**2.Explain the difference between mutable and immutable data types with examples**"
      ],
      "metadata": {
        "id": "SWNcybancDcd"
      }
    },
    {
      "cell_type": "markdown",
      "source": [
        "\n",
        "\n",
        "*   Mutable - can change the value aftetr created.\n",
        "    example - list , set , dictonary\n",
        "*   Immutable - can not change the value after created.\n",
        "    example - tuple , string\n",
        "\n"
      ],
      "metadata": {
        "id": "foBDl0FIcDUI"
      }
    },
    {
      "cell_type": "markdown",
      "source": [
        "**3.What are the main differences between lists and tuples in Python**"
      ],
      "metadata": {
        "id": "xt8S7ZkRjD_b"
      }
    },
    {
      "cell_type": "markdown",
      "source": [
        "\n",
        "*   List - they are mutable.they can change add or remove elements after creation.\n",
        "*   methods - append() , pop() , remove() , sort()\n",
        "---\n",
        "\n",
        "*   tuples - they are immutable.once created cannot change, add update after creation.\n",
        "*   methods - count() , index()\n",
        "\n"
      ],
      "metadata": {
        "id": "FV2cAQ6SjD4S"
      }
    },
    {
      "cell_type": "markdown",
      "source": [
        "**4.Describe how dictionaries store data**"
      ],
      "metadata": {
        "id": "XZ4aZ5bqmRdr"
      }
    },
    {
      "cell_type": "markdown",
      "source": [
        "Dictionaries - they save the data in key value pair.\n",
        "keys are unique and immutable like string,number or tuple.\n",
        "value are immutable in nature they can be any type of mutable or immutable\n",
        "\n",
        "\n",
        "\n",
        "\n"
      ],
      "metadata": {
        "id": "lwLrAhClmRZ0"
      }
    },
    {
      "cell_type": "markdown",
      "source": [
        "**5.Why might you use a set instead of a list in Python**"
      ],
      "metadata": {
        "id": "VHzKY3nWnBl_"
      }
    },
    {
      "cell_type": "markdown",
      "source": [
        "\n",
        "\n",
        "*   list - allow duplicate so you need to remove it manually\n",
        "*   set - all elements are unique automatically.provides build in mathomatical operation like union , intersection and difference it is easy perform set related task\n",
        "\n"
      ],
      "metadata": {
        "id": "Y2VPjXJtoDWw"
      }
    },
    {
      "cell_type": "markdown",
      "source": [
        "**6.What is a string in Python, and how is it different from a list**"
      ],
      "metadata": {
        "id": "Z5p6tswFoDTY"
      }
    },
    {
      "cell_type": "markdown",
      "source": [
        "string in python is a sequence of character enclosed in single quote , double quote or tripple quote.they are immutable in nature means you can not change after creatioin\n",
        "\n",
        "* string - immutable , character , enclosed in quotes , string specific methods , represent character\n",
        "\n",
        "* List - mutable , any data type , enclosed in square brackets , list specific method , represent collection of items"
      ],
      "metadata": {
        "id": "GYRz0iXBp7ke"
      }
    },
    {
      "cell_type": "markdown",
      "source": [
        "**7.How do tuples ensure data integrity in Python**"
      ],
      "metadata": {
        "id": "M8iVPHIWuI_B"
      }
    },
    {
      "cell_type": "markdown",
      "source": [
        "Tuples in Python help ensure data integrity through their immutable nature. Once a tuple is created, its elements cannot be changed, added, or removed."
      ],
      "metadata": {
        "id": "HdUEHwwIuI7g"
      }
    },
    {
      "cell_type": "markdown",
      "source": [
        "**8.What is a hash table, and how does it relate to dictionaries in Python**"
      ],
      "metadata": {
        "id": "3Vg3MuLDuvXY"
      }
    },
    {
      "cell_type": "markdown",
      "source": [
        "A hash table is a data structure that maps keys to values using a technique called hashing. It allows for efficient data retrieval, insertion, and deletion.\n",
        "1.key value pairs\n",
        "2.hashing\n",
        "3.index calculation\n",
        "4.efficient lookup"
      ],
      "metadata": {
        "id": "O3420zhJuvPI"
      }
    },
    {
      "cell_type": "markdown",
      "source": [
        "**9.Can lists contain different data types in Python**"
      ],
      "metadata": {
        "id": "9YPm-TpyuvL6"
      }
    },
    {
      "cell_type": "markdown",
      "source": [
        "Yes.Python lists are quite versatile and can contain elements of different data types. For example, you can have a list that includes integers, strings, floats, and even other lists."
      ],
      "metadata": {
        "id": "Lni2dxIkuvI5"
      }
    },
    {
      "cell_type": "markdown",
      "source": [
        "**10.Explain why strings are immutable in Python**"
      ],
      "metadata": {
        "id": "zYGMwAPXvJMR"
      }
    },
    {
      "cell_type": "markdown",
      "source": [
        "Efficiency - Reusing the same string in memory saves resources.\n",
        "\n",
        "Safety - Ensures that strings passed to functions won't get changed unexpectedly.\n",
        "\n",
        "Hashability - Allows strings to be used as keys in dictionaries, as their hash value won't change.\n",
        "\n",
        "Concurrency - Easier to write safe multi-threaded programs since strings can't be modified."
      ],
      "metadata": {
        "id": "bzFBnWVGvuu3"
      }
    },
    {
      "cell_type": "markdown",
      "source": [
        "**11.What advantages do dictionaries offer over lists for certain tasks**"
      ],
      "metadata": {
        "id": "fJqUx5AJvurV"
      }
    },
    {
      "cell_type": "markdown",
      "source": [
        "Quick Lookup - Find values fast if you know the key, like looking up a name in a phone book.\n",
        "\n",
        "Unique Keys - Ensures each key is unique, no duplicates allowed.\n",
        "\n",
        "Organized Data - Easier to organize and find data with key-value pairs.\n",
        "\n",
        "Fast Searches - Finding an item in a dictionary is usually quicker than searching through a list."
      ],
      "metadata": {
        "id": "Z4pQuYcdvuP2"
      }
    },
    {
      "cell_type": "markdown",
      "source": [
        "**12.Describe a scenario where using a tuple would be preferable over a list**"
      ],
      "metadata": {
        "id": "fkTzD5mxwO_4"
      }
    },
    {
      "cell_type": "markdown",
      "source": [
        "Scenario: Storing Fixed Data\n",
        "\n",
        "Example: Storing geographical coordinates (latitude and longitude) for a location.\n",
        "\n",
        "Reason: Coordinates should not change once set.\n"
      ],
      "metadata": {
        "id": "UJtOCmBdwO8W"
      }
    },
    {
      "cell_type": "code",
      "source": [
        "coordinates = (13.0827, 80.2707)  # Tuple for coordinates\n",
        "location_dict = {coordinates: \"Chennai\"}\n",
        "print(location_dict)\n",
        "type(coordinates)"
      ],
      "metadata": {
        "colab": {
          "base_uri": "https://localhost:8080/"
        },
        "id": "249xaSjOy5l1",
        "outputId": "6c254307-0f0e-46ed-911a-a1c903f1acba"
      },
      "execution_count": 5,
      "outputs": [
        {
          "output_type": "stream",
          "name": "stdout",
          "text": [
            "{(13.0827, 80.2707): 'Chennai'}\n"
          ]
        },
        {
          "output_type": "execute_result",
          "data": {
            "text/plain": [
              "tuple"
            ]
          },
          "metadata": {},
          "execution_count": 5
        }
      ]
    },
    {
      "cell_type": "markdown",
      "source": [
        "**13.How do sets handle duplicate values in Python**"
      ],
      "metadata": {
        "id": "yytooDOUwOkY"
      }
    },
    {
      "cell_type": "markdown",
      "source": [
        "Sets in Python automatically handle duplicate values by only allowing unique elements. If you try to add a duplicate value to a set, it will be ignored."
      ],
      "metadata": {
        "id": "uVwc2hHXz1fC"
      }
    },
    {
      "cell_type": "markdown",
      "source": [
        "**14.How does the “in” keyword work differently for lists and dictionaries**"
      ],
      "metadata": {
        "id": "WG3xsdoiz1cF"
      }
    },
    {
      "cell_type": "markdown",
      "source": [
        "\n",
        "*   List - in checks if an item is in the list\n",
        "*   dictionaries - in checks if an key is in the dictionaries"
      ],
      "metadata": {
        "id": "myGqwZk6z1ZJ"
      }
    },
    {
      "cell_type": "markdown",
      "source": [
        "**15.Can you modify the elements of a tuple? Explain why or why not**"
      ],
      "metadata": {
        "id": "iyFM4AO5z09h"
      }
    },
    {
      "cell_type": "markdown",
      "source": [
        "No. You can not modify the elements of a tuple.\n",
        "because tuple is immutable.\n",
        "after creation of tuple you can not modify it"
      ],
      "metadata": {
        "id": "lILYvYZb2yXN"
      }
    },
    {
      "cell_type": "markdown",
      "source": [
        "**16.What is a nested dictionary, and give an example of its use case**"
      ],
      "metadata": {
        "id": "m8jVH3-D2yTu"
      }
    },
    {
      "cell_type": "markdown",
      "source": [
        "A nested dictionary is a dictionary inside another dictionary.\n",
        "\n",
        "It allows you to organize data in a structured way.\n",
        "\n",
        "Use Case:\n",
        "\n",
        "Example: Storing student details in a school database."
      ],
      "metadata": {
        "id": "HzrWzo-j2yQK"
      }
    },
    {
      "cell_type": "code",
      "source": [
        "student_database = {\n",
        "    \"student1\": {\"name\": \"Harry\",\"age\": 20,\"courses\": [\"Math\", \"Science\", \"Art\"]},\n",
        "    \"student2\": {\"name\": \"potter\",\"age\": 22,\"courses\": [\"History\", \"Science\", \"Math\"]}\n",
        "                  }\n",
        "\n",
        "\n",
        "print(student_database[\"student1\"][\"name\"])\n",
        "print(student_database[\"student2\"][\"courses\"])\n"
      ],
      "metadata": {
        "colab": {
          "base_uri": "https://localhost:8080/"
        },
        "id": "dqgGuZqG4bye",
        "outputId": "1ae817c2-bfc9-4f22-ea15-7a17d9bf9c1b"
      },
      "execution_count": 8,
      "outputs": [
        {
          "output_type": "stream",
          "name": "stdout",
          "text": [
            "Harry\n",
            "['History', 'Science', 'Math']\n"
          ]
        }
      ]
    },
    {
      "cell_type": "markdown",
      "source": [
        "**17.Describe the time complexity of accessing elements in a dictionary**"
      ],
      "metadata": {
        "id": "Fr6VB8Z82xyJ"
      }
    },
    {
      "cell_type": "markdown",
      "source": [
        "on average, accessing an element in a dictionary takes a fixed amount of time, regardless of the size of the dictionary."
      ],
      "metadata": {
        "id": "HHYdjGEk5dZc"
      }
    },
    {
      "cell_type": "markdown",
      "source": [
        "**18.In what situations are lists preferred over dictionaries**"
      ],
      "metadata": {
        "id": "oFL_vB2d5dSC"
      }
    },
    {
      "cell_type": "markdown",
      "source": [
        "Lists are preferred when:\n",
        "\n",
        "Order of elements matters.\n",
        "\n",
        "Duplicates are needed.\n",
        "\n",
        "Simple and straightforward data access is sufficient.\n",
        "\n",
        "Index-based access is required.\n",
        "\n",
        "Minimal memory overhead is desired for small datasets."
      ],
      "metadata": {
        "id": "yAPHVkKa5dFS"
      }
    },
    {
      "cell_type": "markdown",
      "source": [
        "**19.Why are dictionaries considered unordered, and how does that affect data retrieval**"
      ],
      "metadata": {
        "id": "p8AO9gvJ5cwC"
      }
    },
    {
      "cell_type": "markdown",
      "source": [
        "Dictionaries do not maintain the order of elements as they store data based on hash codes, not the sequence of insertion.\n",
        "\n",
        "Impact on Data Retrieval:\n",
        "\n",
        "The order of elements is unpredictable when accessing or iterating over a dictionary.\n",
        "\n",
        "Despite this, dictionaries provide very fast access to values using keys."
      ],
      "metadata": {
        "id": "YHr5fkRU8lHE"
      }
    },
    {
      "cell_type": "markdown",
      "source": [
        "**20.Explain the difference between a list and a dictionary in terms of data retrieval.**"
      ],
      "metadata": {
        "id": "RbpLO8bh8kvL"
      }
    },
    {
      "cell_type": "markdown",
      "source": [
        "Lists: Use when you need ordered, index-based access.\n",
        "\n",
        "Dictionaries: Use for quick lookups based on unique keys."
      ],
      "metadata": {
        "id": "8BcGyny780gi"
      }
    },
    {
      "cell_type": "markdown",
      "source": [
        "# ***End***"
      ],
      "metadata": {
        "id": "0STIGL7D9XDe"
      }
    }
  ],
  "metadata": {
    "colab": {
      "provenance": [],
      "toc_visible": true
    },
    "kernelspec": {
      "display_name": "Python 3",
      "name": "python3"
    },
    "language_info": {
      "name": "python"
    }
  },
  "nbformat": 4,
  "nbformat_minor": 0
}